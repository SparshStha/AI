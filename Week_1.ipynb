{
  "nbformat": 4,
  "nbformat_minor": 0,
  "metadata": {
    "colab": {
      "provenance": []
    },
    "kernelspec": {
      "name": "python3",
      "display_name": "Python 3"
    },
    "language_info": {
      "name": "python"
    }
  },
  "cells": [
    {
      "cell_type": "markdown",
      "source": [
        "# **Exercise 1**\n",
        "Create a python code to convert temperature between Fahrenheit and Centigrade."
      ],
      "metadata": {
        "id": "U-FRrk4CMm7p"
      }
    },
    {
      "cell_type": "code",
      "execution_count": null,
      "metadata": {
        "id": "4atByW5UI0am",
        "colab": {
          "base_uri": "https://localhost:8080/"
        },
        "outputId": "a34ff000-f4b3-451b-cebe-2626706580e4"
      },
      "outputs": [
        {
          "output_type": "stream",
          "name": "stdout",
          "text": [
            "Enter the temperature: 67\n",
            "Enter the unit (F for Fahrenheit, C for Centigrade): C\n",
            "67.0 Centigrade is 152.60 Fahrenheit.\n"
          ]
        }
      ],
      "source": [
        "def fahrenheit_to_centigrade(fahrenheit):\n",
        "    # Convert Fahrenheit to Centigrade\n",
        "    return (fahrenheit - 32) / 1.8\n",
        "\n",
        "def centigrade_to_fahrenheit(centigrade):\n",
        "    # Convert Centigrade to Fahrenheit\n",
        "    return (centigrade * 1.8) + 32\n",
        "\n",
        "# Taking temperature input from the user\n",
        "temperature = float(input(\"Enter the temperature: \"))\n",
        "\n",
        "# Taking unit input from the user\n",
        "# User should enter 'F' for Fahrenheit or 'C' for Centigrade\n",
        "unit = input(\"Enter the unit (F for Fahrenheit, C for Centigrade): \").strip().upper()\n",
        "\n",
        "# Checking the unit and performing the appropriate conversion\n",
        "if unit == \"F\":\n",
        "    # Convert from Fahrenheit to Centigrade\n",
        "    converted = fahrenheit_to_centigrade(temperature)\n",
        "    print(f\"{temperature} Fahrenheit is {converted:.2f} Centigrade.\")\n",
        "elif unit == \"C\":\n",
        "    # Convert from Centigrade to Fahrenheit\n",
        "    converted = centigrade_to_fahrenheit(temperature)\n",
        "    print(f\"{temperature} Centigrade is {converted:.2f} Fahrenheit.\")\n",
        "else:\n",
        "    # Print error message for invalid unit\n",
        "    print(\"Invalid unit. Please enter 'F' for Fahrenheit or 'C' for Centigrade.\")\n"
      ]
    },
    {
      "cell_type": "markdown",
      "source": [
        "# **Exercise 2**\n",
        "Create a program to average any number of numbers."
      ],
      "metadata": {
        "id": "v1pSefz4M05A"
      }
    },
    {
      "cell_type": "code",
      "source": [
        "def average_numbers(numbers):\n",
        "    if len(numbers) == 0:\n",
        "        return 0\n",
        "    return sum(numbers) / len(numbers)\n",
        "\n",
        "# Predefined list of numbers to calculate the average\n",
        "numbers = [10, 20, 30, 40, 50]\n",
        "print(f\"The average of {numbers} is {average_numbers(numbers):.2f}\")\n",
        "\n",
        "# To input numbers from the user:\n",
        "numbers = []\n",
        "# Asking the user for the number of inputs\n",
        "num_count = int(input(\"How many numbers do you want to average? \"))\n",
        "# Loop to get each number from the user\n",
        "for _ in range(num_count):\n",
        "    number = float(input(\"Enter a number: \"))\n",
        "    numbers.append(number)\n",
        "\n",
        "# Calculating and printing the average of the entered numbers\n",
        "print(f\"The average of the entered numbers is {average_numbers(numbers):.2f}\")\n"
      ],
      "metadata": {
        "colab": {
          "base_uri": "https://localhost:8080/"
        },
        "id": "OyfiaraqKxkC",
        "outputId": "37274a6a-7eb8-4d1f-be13-f48c13addb4a"
      },
      "execution_count": null,
      "outputs": [
        {
          "output_type": "stream",
          "name": "stdout",
          "text": [
            "The average of [10, 20, 30, 40, 50] is 30.00\n",
            "How many numbers do you want to average? 4\n",
            "Enter a number: 14\n",
            "Enter a number: 98\n",
            "Enter a number: 13\n",
            "Enter a number: 45\n",
            "The average of the entered numbers is 42.50\n"
          ]
        }
      ]
    }
  ]
}