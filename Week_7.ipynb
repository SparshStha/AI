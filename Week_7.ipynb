{
  "nbformat": 4,
  "nbformat_minor": 0,
  "metadata": {
    "colab": {
      "provenance": []
    },
    "kernelspec": {
      "name": "python3",
      "display_name": "Python 3"
    },
    "language_info": {
      "name": "python"
    }
  },
  "cells": [
    {
      "cell_type": "markdown",
      "source": [
        "# **Exercise 1:**\n",
        "Answering the quiz that which is available in canvas"
      ],
      "metadata": {
        "id": "vQTMn0pa0hJg"
      }
    },
    {
      "cell_type": "markdown",
      "source": [
        "# **Exercise 2:**\n",
        "\n",
        "Installing the required libaries:\n",
        "\n",
        "        !pip install pandas\n",
        "        !pip install numpy\n",
        "        !pip install matplotlib\n",
        "        !pip install scikit-learn"
      ],
      "metadata": {
        "id": "B7VRtXCL0v84"
      }
    },
    {
      "cell_type": "markdown",
      "source": [
        "# **Exercise 3:**\n",
        "The first step of any Machine learning project is to determine a problem to solve\n",
        "and find a relevant dataset that can be used to train the model. In this example let us use the\n",
        "dataset we presented in the lecture i.e., the breast cancer classification;\n"
      ],
      "metadata": {
        "id": "I1JQeIci1Iex"
      }
    },
    {
      "cell_type": "markdown",
      "source": [
        "# **Exercise 4:**\n",
        "Initally we need to import the relevant libaries, as follow:"
      ],
      "metadata": {
        "id": "Cgf6nM1Y1W4H"
      }
    },
    {
      "cell_type": "code",
      "source": [
        "# Importing the libraries\n",
        "import numpy as np\n",
        "import pandas as pd\n",
        "import matplotlib.pyplot as plt\n",
        "from sklearn.model_selection import train_test_split\n",
        "from sklearn.preprocessing import StandardScaler\n",
        "from sklearn.linear_model import LogisticRegression\n",
        "from sklearn.metrics import accuracy_score, classification_report, confusion_matrix, roc_curve, roc_auc_score\n"
      ],
      "metadata": {
        "id": "VzZ356HgPh3k"
      },
      "execution_count": null,
      "outputs": []
    },
    {
      "cell_type": "markdown",
      "source": [
        "We are using the dataset of brest cancer, which is available on kaggle as well"
      ],
      "metadata": {
        "id": "LC3ubk-I1d0f"
      }
    },
    {
      "cell_type": "code",
      "source": [
        "# Use the dataset from their sklearn libarary\n",
        "from sklearn.datasets import load_breast_cancer"
      ],
      "metadata": {
        "id": "iO4Wy3ishYm1"
      },
      "execution_count": null,
      "outputs": []
    },
    {
      "cell_type": "markdown",
      "source": [
        "# **Exercise 5:**\n",
        "Load the dataset, we can easliy do the following:"
      ],
      "metadata": {
        "id": "KEZi-W2Z1lfH"
      }
    },
    {
      "cell_type": "code",
      "source": [
        "# Loading the breast cancer dataset\n",
        "data = load_breast_cancer()\n",
        "x = data.data\n",
        "y = data.target\n",
        "feature_names = data.feature_names\n",
        "target_name = data.target_names"
      ],
      "metadata": {
        "id": "50-1dWkfh0kN"
      },
      "execution_count": null,
      "outputs": []
    },
    {
      "cell_type": "markdown",
      "source": [
        "# **Exercise 6:**\n",
        "Now we can start analysing the datset, to get a better understanding of it. Initially we can assess the classes distrubtion as follow:"
      ],
      "metadata": {
        "id": "d2o9kHeG1rGP"
      }
    },
    {
      "cell_type": "code",
      "source": [
        "# Visualizing the classes distribution\n",
        "plt.figure(figsize=(6, 4))\n",
        "plt.bar(target_names, np.bincount(y))\n",
        "plt.xlabel('Class')\n",
        "plt.ylabel('Count')\n",
        "plt.title('Class Distribution')\n",
        "plt.show()"
      ],
      "metadata": {
        "id": "n2024VAyiC3N",
        "colab": {
          "base_uri": "https://localhost:8080/",
          "height": 410
        },
        "outputId": "e53c48e2-b388-4cd7-c089-95fa300898f4"
      },
      "execution_count": null,
      "outputs": [
        {
          "output_type": "display_data",
          "data": {
            "text/plain": [
              "<Figure size 600x400 with 1 Axes>"
            ],
            "image/png": "[encoded data removed]"
          },
          "metadata": {}
        }
      ]
    },
    {
      "cell_type": "markdown",
      "source": [
        "# **Exercise 7:**\n",
        "To train a model that we can use in real world we need to ensure that it is aable to classify correctly, thus it has learned the correct patters to able to classify correctly. This we need to test it on a part of the data that it did not see in its training, i.e., the test set, and we can do it as follows:"
      ],
      "metadata": {
        "id": "i6TqpYr03sLP"
      }
    },
    {
      "cell_type": "code",
      "source": [
        "# Spilitting the dataset into training and testing sets\n",
        "X_train, X_test, y_train, y_test = train_test_split(x, y, test_size = 0.2, random_state = 42)"
      ],
      "metadata": {
        "id": "pRO5L-oV3A_S"
      },
      "execution_count": null,
      "outputs": []
    },
    {
      "cell_type": "markdown",
      "source": [
        "# **Exercise 8:**\n",
        "To make sure that model is abole to use the features without any baise we need to scale that data as follow"
      ],
      "metadata": {
        "id": "xwqQiMDf4IFP"
      }
    },
    {
      "cell_type": "code",
      "source": [
        "# Feature scaling\n",
        "scaler = StandardScaler()\n",
        "X_train = scaler.fit_transform(X_train)\n",
        "X_test = scaler.transform(X_test)"
      ],
      "metadata": {
        "id": "31yI3HK03g5f"
      },
      "execution_count": null,
      "outputs": []
    },
    {
      "cell_type": "markdown",
      "source": [
        "Exercise 9:\n",
        "so far, we imported the data, and analyzed it and did a aimple scaling of the featuress. Consequently, now we can train the model on the training data as follow:"
      ],
      "metadata": {
        "id": "-So8ipg94Ya4"
      }
    },
    {
      "cell_type": "code",
      "source": [
        "# Fitting logistic regression to the training set\n",
        "classifier = LogisticRegression(random_state=0)\n",
        "classifier.fit(X_train, y_train)\n"
      ],
      "metadata": {
        "colab": {
          "base_uri": "https://localhost:8080/",
          "height": 75
        },
        "id": "bfPEHUdZ4XvX",
        "outputId": "59ccf2bf-1932-4be6-b9a3-d674e94ebf0c"
      },
      "execution_count": null,
      "outputs": [
        {
          "output_type": "execute_result",
          "data": {
            "text/plain": [
              "LogisticRegression(random_state=0)"
            ],
            "text/html": [
              "<style>#sk-container-id-1 {color: black;background-color: white;}#sk-container-id-1 pre{padding: 0;}#sk-container-id-1 div.sk-toggleable {background-color: white;}#sk-container-id-1 label.sk-toggleable__label {cursor: pointer;display: block;width: 100%;margin-bottom: 0;padding: 0.3em;box-sizing: border-box;text-align: center;}#sk-container-id-1 label.sk-toggleable__label-arrow:before {content: \"▸\";float: left;margin-right: 0.25em;color: #696969;}#sk-container-id-1 label.sk-toggleable__label-arrow:hover:before {color: black;}#sk-container-id-1 div.sk-estimator:hover label.sk-toggleable__label-arrow:before {color: black;}#sk-container-id-1 div.sk-toggleable__content {max-height: 0;max-width: 0;overflow: hidden;text-align: left;background-color: #f0f8ff;}#sk-container-id-1 div.sk-toggleable__content pre {margin: 0.2em;color: black;border-radius: 0.25em;background-color: #f0f8ff;}#sk-container-id-1 input.sk-toggleable__control:checked~div.sk-toggleable__content {max-height: 200px;max-width: 100%;overflow: auto;}#sk-container-id-1 input.sk-toggleable__control:checked~label.sk-toggleable__label-arrow:before {content: \"▾\";}#sk-container-id-1 div.sk-estimator input.sk-toggleable__control:checked~label.sk-toggleable__label {background-color: #d4ebff;}#sk-container-id-1 div.sk-label input.sk-toggleable__control:checked~label.sk-toggleable__label {background-color: #d4ebff;}#sk-container-id-1 input.sk-hidden--visually {border: 0;clip: rect(1px 1px 1px 1px);clip: rect(1px, 1px, 1px, 1px);height: 1px;margin: -1px;overflow: hidden;padding: 0;position: absolute;width: 1px;}#sk-container-id-1 div.sk-estimator {font-family: monospace;background-color: #f0f8ff;border: 1px dotted black;border-radius: 0.25em;box-sizing: border-box;margin-bottom: 0.5em;}#sk-container-id-1 div.sk-estimator:hover {background-color: #d4ebff;}#sk-container-id-1 div.sk-parallel-item::after {content: \"\";width: 100%;border-bottom: 1px solid gray;flex-grow: 1;}#sk-container-id-1 div.sk-label:hover label.sk-toggleable__label {background-color: #d4ebff;}#sk-container-id-1 div.sk-serial::before {content: \"\";position: absolute;border-left: 1px solid gray;box-sizing: border-box;top: 0;bottom: 0;left: 50%;z-index: 0;}#sk-container-id-1 div.sk-serial {display: flex;flex-direction: column;align-items: center;background-color: white;padding-right: 0.2em;padding-left: 0.2em;position: relative;}#sk-container-id-1 div.sk-item {position: relative;z-index: 1;}#sk-container-id-1 div.sk-parallel {display: flex;align-items: stretch;justify-content: center;background-color: white;position: relative;}#sk-container-id-1 div.sk-item::before, #sk-container-id-1 div.sk-parallel-item::before {content: \"\";position: absolute;border-left: 1px solid gray;box-sizing: border-box;top: 0;bottom: 0;left: 50%;z-index: -1;}#sk-container-id-1 div.sk-parallel-item {display: flex;flex-direction: column;z-index: 1;position: relative;background-color: white;}#sk-container-id-1 div.sk-parallel-item:first-child::after {align-self: flex-end;width: 50%;}#sk-container-id-1 div.sk-parallel-item:last-child::after {align-self: flex-start;width: 50%;}#sk-container-id-1 div.sk-parallel-item:only-child::after {width: 0;}#sk-container-id-1 div.sk-dashed-wrapped {border: 1px dashed gray;margin: 0 0.4em 0.5em 0.4em;box-sizing: border-box;padding-bottom: 0.4em;background-color: white;}#sk-container-id-1 div.sk-label label {font-family: monospace;font-weight: bold;display: inline-block;line-height: 1.2em;}#sk-container-id-1 div.sk-label-container {text-align: center;}#sk-container-id-1 div.sk-container {/* jupyter's `normalize.less` sets `[hidden] { display: none; }` but bootstrap.min.css set `[hidden] { display: none !important; }` so we also need the `!important` here to be able to override the default hidden behavior on the sphinx rendered scikit-learn.org. See: https://github.com/scikit-learn/scikit-learn/issues/21755 */display: inline-block !important;position: relative;}#sk-container-id-1 div.sk-text-repr-fallback {display: none;}</style><div id=\"sk-container-id-1\" class=\"sk-top-container\"><div class=\"sk-text-repr-fallback\"><pre>LogisticRegression(random_state=0)</pre><b>In a Jupyter environment, please rerun this cell to show the HTML representation or trust the notebook. <br />On GitHub, the HTML representation is unable to render, please try loading this page with nbviewer.org.</b></div><div class=\"sk-container\" hidden><div class=\"sk-item\"><div class=\"sk-estimator sk-toggleable\"><input class=\"sk-toggleable__control sk-hidden--visually\" id=\"sk-estimator-id-1\" type=\"checkbox\" checked><label for=\"sk-estimator-id-1\" class=\"sk-toggleable__label sk-toggleable__label-arrow\">LogisticRegression</label><div class=\"sk-toggleable__content\"><pre>LogisticRegression(random_state=0)</pre></div></div></div></div></div>"
            ]
          },
          "metadata": {},
          "execution_count": 14
        }
      ]
    },
    {
      "cell_type": "markdown",
      "source": [
        "# **Exercise 10:**\n",
        "Since now we have trained model, we can use it to predict the classes of the test data as follow:"
      ],
      "metadata": {
        "id": "46IP2law4kpH"
      }
    },
    {
      "cell_type": "code",
      "source": [
        "# Predicting the test set results\n",
        "y_pred = classifier.predict(X_test)\n"
      ],
      "metadata": {
        "id": "Ap5D6jI54rXG"
      },
      "execution_count": null,
      "outputs": []
    },
    {
      "cell_type": "markdown",
      "source": [
        "# **Exercise 11:**\n",
        "To asse the performance of the classifier we can use the accuracy and other confusion matrix as follow:"
      ],
      "metadata": {
        "id": "uD5uP78y4yYv"
      }
    },
    {
      "cell_type": "code",
      "source": [
        "# Evaluating the model\n",
        "print(\"Accuracy:\", accuracy_score(y_test, y_pred))\n",
        "print(\"\\nClassification Report:\\n\", classification_report(y_test, y_pred))\n",
        "print(\"\\nConfusion Matrix:\\n\", confusion_matrix(y_test, y_pred))"
      ],
      "metadata": {
        "colab": {
          "base_uri": "https://localhost:8080/"
        },
        "id": "Kk5nBEgn4tM-",
        "outputId": "e2d4511a-05ec-452e-f1eb-74a6a72d735d"
      },
      "execution_count": null,
      "outputs": [
        {
          "output_type": "stream",
          "name": "stdout",
          "text": [
            "Accuracy: 0.9736842105263158\n",
            "\n",
            "Classification Report:\n",
            "               precision    recall  f1-score   support\n",
            "\n",
            "           0       0.98      0.95      0.96        43\n",
            "           1       0.97      0.99      0.98        71\n",
            "\n",
            "    accuracy                           0.97       114\n",
            "   macro avg       0.97      0.97      0.97       114\n",
            "weighted avg       0.97      0.97      0.97       114\n",
            "\n",
            "\n",
            "Confusion Matrix:\n",
            " [[41  2]\n",
            " [ 1 70]]\n"
          ]
        }
      ]
    },
    {
      "cell_type": "markdown",
      "source": [
        "# **Exercise 12:**\n",
        "We can visualise the matrix as the following:\n"
      ],
      "metadata": {
        "id": "GTOtqJ9348A2"
      }
    },
    {
      "cell_type": "code",
      "source": [
        "# Plotting the confusion matrix\n",
        "\n",
        "# Compute the confusion matrix from the true labels (y_test) and predicted labels (y_pred)\n",
        "conf_matrix = confusion_matrix(y_test, y_pred)\n",
        "\n",
        "# Display the confusion matrix as an image with color intensity\n",
        "plt.imshow(conf_matrix, cmap='Blues', interpolation='nearest')\n",
        "\n",
        "# Set the title of the plot\n",
        "plt.title('Confusion Matrix')\n",
        "\n",
        "# Add a color bar to the side of the plot to show the intensity scale\n",
        "plt.colorbar()\n",
        "\n",
        "# Define the tick marks based on the number of classes (2 in this case for binary classification)\n",
        "tick_marks = np.arange(2)\n",
        "\n",
        "# Set the x-axis tick marks and labels to the class names (target_names)\n",
        "plt.xticks(tick_marks, target_names)\n",
        "\n",
        "# Set the y-axis tick marks and labels to the class names (target_names)\n",
        "plt.yticks(tick_marks, target_names)\n",
        "\n",
        "# Label the x-axis as 'Predicted'\n",
        "plt.xlabel('Predicted')\n",
        "\n",
        "# Label the y-axis as 'Actual'\n",
        "plt.ylabel('Actual')\n",
        "\n",
        "# Display the plot\n",
        "plt.show()\n"
      ],
      "metadata": {
        "colab": {
          "base_uri": "https://localhost:8080/",
          "height": 472
        },
        "id": "pLI1REAv5J63",
        "outputId": "27dcd7c4-2ba4-4c0e-a5f4-e0cb48029699"
      },
      "execution_count": null,
      "outputs": [
        {
          "output_type": "display_data",
          "data": {
            "text/plain": [
              "<Figure size 640x480 with 2 Axes>"
            ],
            "image/png": "[encoded data removed]"
          },
          "metadata": {}
        }
      ]
    },
    {
      "cell_type": "markdown",
      "source": [
        "# **Exercise 13:**\n",
        "We can also plot the ROC (Receiver Operating Characteristic) curve using:"
      ],
      "metadata": {
        "id": "yDquW_7J5O-P"
      }
    },
    {
      "cell_type": "code",
      "source": [
        "# Plotting the ROC curve\n",
        "\n",
        "# Calculate the predicted probabilities for the positive class (class 1) from the classifier\n",
        "y_pred_proba = classifier.predict_proba(X_test)[:, 1]\n",
        "\n",
        "# Compute the false positive rate (fpr), true positive rate (tpr), and thresholds for the ROC curve\n",
        "fpr, tpr, thresholds = roc_curve(y_test, y_pred_proba)\n",
        "\n",
        "# Plot the ROC curve by plotting tpr against fpr\n",
        "plt.plot(fpr, tpr, label='ROC Curve')\n",
        "\n",
        "# Plot a diagonal line from (0, 0) to (1, 1) to represent random guessing\n",
        "plt.plot([0, 1], [0, 1], 'k--')\n",
        "\n",
        "# Label the x-axis as 'False Positive Rate'\n",
        "plt.xlabel('False Positive Rate')\n",
        "\n",
        "# Label the y-axis as 'True Positive Rate'\n",
        "plt.ylabel('True Positive Rate')\n",
        "\n",
        "# Set the title of the plot as 'Receiver Operating Characteristic (ROC) Curve'\n",
        "plt.title('Receiver Operating Characteristic (ROC) Curve')\n",
        "\n",
        "# Add a legend to the plot, located in the lower right corner\n",
        "plt.legend(loc='lower right')\n",
        "\n",
        "# Display the plot\n",
        "plt.show()\n"
      ],
      "metadata": {
        "colab": {
          "base_uri": "https://localhost:8080/",
          "height": 472
        },
        "id": "-UG-XyuK5Msv",
        "outputId": "7fd5cb98-33c7-4894-e415-d2665bd83044"
      },
      "execution_count": null,
      "outputs": [
        {
          "output_type": "display_data",
          "data": {
            "text/plain": [
              "<Figure size 640x480 with 1 Axes>"
            ],
            "image/png": "[encoded data removed]"
          },
          "metadata": {}
        }
      ]
    },
    {
      "cell_type": "markdown",
      "source": [
        "# **Exericse 14:**\n",
        "In real-world scenarios, it is crucial to identify the most important features using classifiers. This information can be shared with medical experts, potentially leading to new discoveries and a better understanding of the science. We can visualize feature importance as follows:"
      ],
      "metadata": {
        "id": "ZvAd5iIO5pvA"
      }
    },
    {
      "cell_type": "code",
      "source": [
        "# Plotting feature importance\n",
        "\n",
        "# Extract the coefficients of the features from the classifier\n",
        "coefficients = classifier.coef_[0]\n",
        "\n",
        "# Get the indices that would sort the coefficients array\n",
        "sorted_indices = np.argsort(coefficients)\n",
        "\n",
        "# Create a horizontal bar plot of the coefficients, sorted by their importance\n",
        "plt.barh(range(len(coefficients)), coefficients[sorted_indices], tick_label=feature_names[sorted_indices])\n",
        "\n",
        "# Set the title of the plot to 'Feature Importance'\n",
        "plt.title('Feature Importance')\n",
        "\n",
        "# Label the x-axis as 'Coefficients'\n",
        "plt.xlabel('Coefficients')\n",
        "\n",
        "# Label the y-axis as 'Feature'\n",
        "plt.ylabel('Feature')\n",
        "\n",
        "# Display the plot\n",
        "plt.show()\n"
      ],
      "metadata": {
        "colab": {
          "base_uri": "https://localhost:8080/",
          "height": 472
        },
        "id": "G2u38H5C53Oe",
        "outputId": "28788744-3357-4515-f871-634fe1886e9f"
      },
      "execution_count": null,
      "outputs": [
        {
          "output_type": "display_data",
          "data": {
            "text/plain": [
              "<Figure size 640x480 with 1 Axes>"
            ],
            "image/png": "[encoded data removed]"
          },
          "metadata": {}
        }
      ]
    },
    {
      "cell_type": "markdown",
      "source": [
        "# **Exercise 15:**\n",
        "Use different classification algorithms such as SVM and Decision Trees and compare the performance:\n"
      ],
      "metadata": {
        "id": "frR5vBwq66zu"
      }
    },
    {
      "cell_type": "markdown",
      "source": [
        "Importing libaries\n",
        "\n",
        "\n",
        "\n"
      ],
      "metadata": {
        "id": "wii67L447Die"
      }
    },
    {
      "cell_type": "code",
      "source": [
        "import numpy as np\n",
        "import pandas as pd\n",
        "import matplotlib.pyplot as plt\n",
        "from sklearn.model_selection import train_test_split\n",
        "from sklearn.preprocessing import StandardScaler\n",
        "from sklearn.metrics import accuracy_score, classification_report, confusion_matrix\n",
        "from sklearn.datasets import load_breast_cancer\n",
        "from sklearn.svm import SVC\n",
        "from sklearn.tree import DecisionTreeClassifier\n"
      ],
      "metadata": {
        "id": "_RLW9Kbu83pm"
      },
      "execution_count": null,
      "outputs": []
    },
    {
      "cell_type": "markdown",
      "source": [
        "Loading the Dataset:"
      ],
      "metadata": {
        "id": "O6n0GVSL8-p9"
      }
    },
    {
      "cell_type": "code",
      "source": [
        "# Load the breast cancer dataset\n",
        "data = load_breast_cancer()\n",
        "X = data.data\n",
        "y = data.target\n",
        "feature_names = data.feature_names\n",
        "target_names = data.target_names\n"
      ],
      "metadata": {
        "id": "XoK8lM7n86Tl"
      },
      "execution_count": null,
      "outputs": []
    },
    {
      "cell_type": "markdown",
      "source": [
        "Splitting the Dataset"
      ],
      "metadata": {
        "id": "zJmmn7o89A_U"
      }
    },
    {
      "cell_type": "code",
      "source": [
        "# Split the dataset into training and testing sets\n",
        "X_train, X_test, y_train, y_test = train_test_split(X, y, test_size=0.2, random_state=42)\n"
      ],
      "metadata": {
        "id": "HYfYXxmk9F2V"
      },
      "execution_count": null,
      "outputs": []
    },
    {
      "cell_type": "markdown",
      "source": [
        "Feature Scaling"
      ],
      "metadata": {
        "id": "0TdIRlP49Hcd"
      }
    },
    {
      "cell_type": "code",
      "source": [
        "# Feature scaling\n",
        "scaler = StandardScaler()\n",
        "X_train = scaler.fit_transform(X_train)\n",
        "X_test = scaler.transform(X_test)\n"
      ],
      "metadata": {
        "id": "cHbQ9o_B9JGO"
      },
      "execution_count": null,
      "outputs": []
    },
    {
      "cell_type": "markdown",
      "source": [
        "Training and Evaluating SVM"
      ],
      "metadata": {
        "id": "QkqL2AvT9Kp0"
      }
    },
    {
      "cell_type": "code",
      "source": [
        "# Training SVM\n",
        "svm_classifier = SVC(probability=True)\n",
        "svm_classifier.fit(X_train, y_train)\n",
        "\n",
        "# Predicting the test set results\n",
        "y_pred_svm = svm_classifier.predict(X_test)\n",
        "\n",
        "# Evaluating the SVM model\n",
        "print(\"SVM Accuracy:\", accuracy_score(y_test, y_pred_svm))\n",
        "print(\"\\nSVM Classification Report:\\n\", classification_report(y_test, y_pred_svm))\n",
        "print(\"\\nSVM Confusion Matrix:\\n\", confusion_matrix(y_test, y_pred_svm))\n"
      ],
      "metadata": {
        "colab": {
          "base_uri": "https://localhost:8080/"
        },
        "id": "VJnxYrKO9M6c",
        "outputId": "b3ff190c-a245-4085-efb9-c15aed1b5ce1"
      },
      "execution_count": null,
      "outputs": [
        {
          "output_type": "stream",
          "name": "stdout",
          "text": [
            "SVM Accuracy: 0.9824561403508771\n",
            "\n",
            "SVM Classification Report:\n",
            "               precision    recall  f1-score   support\n",
            "\n",
            "           0       1.00      0.95      0.98        43\n",
            "           1       0.97      1.00      0.99        71\n",
            "\n",
            "    accuracy                           0.98       114\n",
            "   macro avg       0.99      0.98      0.98       114\n",
            "weighted avg       0.98      0.98      0.98       114\n",
            "\n",
            "\n",
            "SVM Confusion Matrix:\n",
            " [[41  2]\n",
            " [ 0 71]]\n"
          ]
        }
      ]
    },
    {
      "cell_type": "markdown",
      "source": [
        "Training and Evaluating Decision Tree"
      ],
      "metadata": {
        "id": "IEN_DczW9SqM"
      }
    },
    {
      "cell_type": "code",
      "source": [
        "# Training Decision Tree\n",
        "tree_classifier = DecisionTreeClassifier()\n",
        "tree_classifier.fit(X_train, y_train)\n",
        "\n",
        "# Predicting the test set results\n",
        "y_pred_tree = tree_classifier.predict(X_test)\n",
        "\n",
        "# Evaluating the Decision Tree model\n",
        "print(\"Decision Tree Accuracy:\", accuracy_score(y_test, y_pred_tree))\n",
        "print(\"\\nDecision Tree Classification Report:\\n\", classification_report(y_test, y_pred_tree))\n",
        "print(\"\\nDecision Tree Confusion Matrix:\\n\", confusion_matrix(y_test, y_pred_tree))\n"
      ],
      "metadata": {
        "colab": {
          "base_uri": "https://localhost:8080/"
        },
        "id": "enrAvrE-9O7U",
        "outputId": "d7a0ebbb-ffdc-4c4a-cdc2-59977959676c"
      },
      "execution_count": null,
      "outputs": [
        {
          "output_type": "stream",
          "name": "stdout",
          "text": [
            "Decision Tree Accuracy: 0.9385964912280702\n",
            "\n",
            "Decision Tree Classification Report:\n",
            "               precision    recall  f1-score   support\n",
            "\n",
            "           0       0.93      0.91      0.92        43\n",
            "           1       0.94      0.96      0.95        71\n",
            "\n",
            "    accuracy                           0.94       114\n",
            "   macro avg       0.94      0.93      0.93       114\n",
            "weighted avg       0.94      0.94      0.94       114\n",
            "\n",
            "\n",
            "Decision Tree Confusion Matrix:\n",
            " [[39  4]\n",
            " [ 3 68]]\n"
          ]
        }
      ]
    },
    {
      "cell_type": "markdown",
      "source": [
        "# **Exercise 16:**\n",
        "Trying a Different Dataset (Iris Dataset)"
      ],
      "metadata": {
        "id": "WqXqhKzi9b4t"
      }
    },
    {
      "cell_type": "markdown",
      "source": [
        "Loadint the Iris Dataset"
      ],
      "metadata": {
        "id": "hGiYENJa9xr0"
      }
    },
    {
      "cell_type": "code",
      "source": [
        "from sklearn.datasets import load_iris\n",
        "\n",
        "# Load the iris dataset\n",
        "iris_data = load_iris()\n",
        "X_iris = iris_data.data\n",
        "y_iris = iris_data.target\n"
      ],
      "metadata": {
        "id": "X00aViDR90XW"
      },
      "execution_count": null,
      "outputs": []
    },
    {
      "cell_type": "markdown",
      "source": [
        "Spliting the Dataset"
      ],
      "metadata": {
        "id": "NfOYRMP692W8"
      }
    },
    {
      "cell_type": "code",
      "source": [
        "# Split the dataset into training and testing sets\n",
        "X_iris_train, X_iris_test, y_iris_train, y_iris_test = train_test_split(X_iris, y_iris, test_size=0.2, random_state=42)\n"
      ],
      "metadata": {
        "id": "RAauI13c91l9"
      },
      "execution_count": null,
      "outputs": []
    },
    {
      "cell_type": "markdown",
      "source": [
        "Feature Scaling"
      ],
      "metadata": {
        "id": "5s32-KJg94Ud"
      }
    },
    {
      "cell_type": "code",
      "source": [
        "# Feature scaling\n",
        "scaler = StandardScaler()\n",
        "X_iris_train = scaler.fit_transform(X_iris_train)\n",
        "X_iris_test = scaler.transform(X_iris_test)\n"
      ],
      "metadata": {
        "id": "vJ_8Eu2e96B0"
      },
      "execution_count": null,
      "outputs": []
    },
    {
      "cell_type": "markdown",
      "source": [
        "Training and Evaluating SVM on Iris Dataset"
      ],
      "metadata": {
        "id": "49SG7IxX97hV"
      }
    },
    {
      "cell_type": "code",
      "source": [
        "# Training SVM\n",
        "svm_classifier_iris = SVC(probability=True)\n",
        "svm_classifier_iris.fit(X_iris_train, y_iris_train)\n",
        "\n",
        "# Predicting the test set results\n",
        "y_iris_pred_svm = svm_classifier_iris.predict(X_iris_test)\n",
        "\n",
        "# Evaluating the SVM model\n",
        "print(\"Iris SVM Accuracy:\", accuracy_score(y_iris_test, y_iris_pred_svm))\n",
        "print(\"\\nIris SVM Classification Report:\\n\", classification_report(y_iris_test, y_iris_pred_svm))\n",
        "print(\"\\nIris SVM Confusion Matrix:\\n\", confusion_matrix(y_iris_test, y_iris_pred_svm))\n"
      ],
      "metadata": {
        "colab": {
          "base_uri": "https://localhost:8080/"
        },
        "id": "sVVQE9as9_Gd",
        "outputId": "3908f557-0524-4cfe-8eb9-f90db14502ec"
      },
      "execution_count": null,
      "outputs": [
        {
          "output_type": "stream",
          "name": "stdout",
          "text": [
            "Iris SVM Accuracy: 1.0\n",
            "\n",
            "Iris SVM Classification Report:\n",
            "               precision    recall  f1-score   support\n",
            "\n",
            "           0       1.00      1.00      1.00        10\n",
            "           1       1.00      1.00      1.00         9\n",
            "           2       1.00      1.00      1.00        11\n",
            "\n",
            "    accuracy                           1.00        30\n",
            "   macro avg       1.00      1.00      1.00        30\n",
            "weighted avg       1.00      1.00      1.00        30\n",
            "\n",
            "\n",
            "Iris SVM Confusion Matrix:\n",
            " [[10  0  0]\n",
            " [ 0  9  0]\n",
            " [ 0  0 11]]\n"
          ]
        }
      ]
    },
    {
      "cell_type": "markdown",
      "source": [
        "Training and Evaluating Decision Tree on Iris Dataset"
      ],
      "metadata": {
        "id": "ImrbtCcK-Ca8"
      }
    },
    {
      "cell_type": "code",
      "source": [
        "# Training Decision Tree\n",
        "tree_classifier_iris = DecisionTreeClassifier()\n",
        "tree_classifier_iris.fit(X_iris_train, y_iris_train)\n",
        "\n",
        "# Predicting the test set results\n",
        "y_iris_pred_tree = tree_classifier_iris.predict(X_iris_test)\n",
        "\n",
        "# Evaluating the Decision Tree model\n",
        "print(\"Iris Decision Tree Accuracy:\", accuracy_score(y_iris_test, y_iris_pred_tree))\n",
        "print(\"\\nIris Decision Tree Classification Report:\\n\", classification_report(y_iris_test, y_iris_pred_tree))\n",
        "print(\"\\nIris Decision Tree Confusion Matrix:\\n\", confusion_matrix(y_iris_test, y_iris_pred_tree))\n"
      ],
      "metadata": {
        "colab": {
          "base_uri": "https://localhost:8080/"
        },
        "id": "L2XTVu5T-C4s",
        "outputId": "a783cce7-5fb3-4f23-e97f-56e27f5cb496"
      },
      "execution_count": null,
      "outputs": [
        {
          "output_type": "stream",
          "name": "stdout",
          "text": [
            "Iris Decision Tree Accuracy: 1.0\n",
            "\n",
            "Iris Decision Tree Classification Report:\n",
            "               precision    recall  f1-score   support\n",
            "\n",
            "           0       1.00      1.00      1.00        10\n",
            "           1       1.00      1.00      1.00         9\n",
            "           2       1.00      1.00      1.00        11\n",
            "\n",
            "    accuracy                           1.00        30\n",
            "   macro avg       1.00      1.00      1.00        30\n",
            "weighted avg       1.00      1.00      1.00        30\n",
            "\n",
            "\n",
            "Iris Decision Tree Confusion Matrix:\n",
            " [[10  0  0]\n",
            " [ 0  9  0]\n",
            " [ 0  0 11]]\n"
          ]
        }
      ]
    },
    {
      "cell_type": "markdown",
      "source": [
        "# **Exercise 17**\n",
        "Find Any Dataset for Classification and Test Algorithms"
      ],
      "metadata": {
        "id": "G0OyW9dx-GAs"
      }
    },
    {
      "cell_type": "markdown",
      "source": [
        "Finding and Loading a New Dataset\n",
        "For this exercise, let's use the Wine dataset from the UCI Machine Learning Repository."
      ],
      "metadata": {
        "id": "pkZ0zloo-J91"
      }
    },
    {
      "cell_type": "code",
      "source": [
        "from sklearn.datasets import load_wine\n",
        "\n",
        "# Load the wine dataset\n",
        "wine_data = load_wine()\n",
        "X_wine = wine_data.data\n",
        "y_wine = wine_data.target\n"
      ],
      "metadata": {
        "id": "c-FtRjqY-M-8"
      },
      "execution_count": null,
      "outputs": []
    },
    {
      "cell_type": "markdown",
      "source": [
        "Splitting the Dataset"
      ],
      "metadata": {
        "id": "0LbMVq-n-O_l"
      }
    },
    {
      "cell_type": "code",
      "source": [
        "# Split the dataset into training and testing sets\n",
        "X_wine_train, X_wine_test, y_wine_train, y_wine_test = train_test_split(X_wine, y_wine, test_size=0.2, random_state=42)\n"
      ],
      "metadata": {
        "id": "--iEcojy-RI1"
      },
      "execution_count": null,
      "outputs": []
    },
    {
      "cell_type": "markdown",
      "source": [
        "Feature Scaling"
      ],
      "metadata": {
        "id": "keGwlUBy-TlB"
      }
    },
    {
      "cell_type": "code",
      "source": [
        "# Feature scaling\n",
        "scaler = StandardScaler()\n",
        "X_wine_train = scaler.fit_transform(X_wine_train)\n",
        "X_wine_test = scaler.transform(X_wine_test)\n"
      ],
      "metadata": {
        "id": "m-HjERL2-Sdc"
      },
      "execution_count": null,
      "outputs": []
    },
    {
      "cell_type": "markdown",
      "source": [
        "Training and Evaluating SVM on Wine Dataset"
      ],
      "metadata": {
        "id": "LpAHnWjK-VMJ"
      }
    },
    {
      "cell_type": "code",
      "source": [
        "# Training SVM\n",
        "svm_classifier_wine = SVC(probability=True)\n",
        "svm_classifier_wine.fit(X_wine_train, y_wine_train)\n",
        "\n",
        "# Predicting the test set results\n",
        "y_wine_pred_svm = svm_classifier_wine.predict(X_wine_test)\n",
        "\n",
        "# Evaluating the SVM model\n",
        "print(\"Wine SVM Accuracy:\", accuracy_score(y_wine_test, y_wine_pred_svm))\n",
        "print(\"\\nWine SVM Classification Report:\\n\", classification_report(y_wine_test, y_wine_pred_svm))\n",
        "print(\"\\nWine SVM Confusion Matrix:\\n\", confusion_matrix(y_wine_test, y_wine_pred_svm))\n"
      ],
      "metadata": {
        "colab": {
          "base_uri": "https://localhost:8080/"
        },
        "id": "bqjOgvBG-Wk5",
        "outputId": "76bdc420-6df3-48a6-a069-fc5b6455f4b0"
      },
      "execution_count": null,
      "outputs": [
        {
          "output_type": "stream",
          "name": "stdout",
          "text": [
            "Wine SVM Accuracy: 1.0\n",
            "\n",
            "Wine SVM Classification Report:\n",
            "               precision    recall  f1-score   support\n",
            "\n",
            "           0       1.00      1.00      1.00        14\n",
            "           1       1.00      1.00      1.00        14\n",
            "           2       1.00      1.00      1.00         8\n",
            "\n",
            "    accuracy                           1.00        36\n",
            "   macro avg       1.00      1.00      1.00        36\n",
            "weighted avg       1.00      1.00      1.00        36\n",
            "\n",
            "\n",
            "Wine SVM Confusion Matrix:\n",
            " [[14  0  0]\n",
            " [ 0 14  0]\n",
            " [ 0  0  8]]\n"
          ]
        }
      ]
    },
    {
      "cell_type": "markdown",
      "source": [
        "Training and Evaluating Decision Tree on Wine Dataset"
      ],
      "metadata": {
        "id": "RkZxTuYt-Y6Z"
      }
    },
    {
      "cell_type": "code",
      "source": [
        "# Training Decision Tree\n",
        "tree_classifier_wine = DecisionTreeClassifier()\n",
        "tree_classifier_wine.fit(X_wine_train, y_wine_train)\n",
        "\n",
        "# Predicting the test set results\n",
        "y_wine_pred_tree = tree_classifier_wine.predict(X_wine_test)\n",
        "\n",
        "# Evaluating the Decision Tree model\n",
        "print(\"Wine Decision Tree Accuracy:\", accuracy_score(y_wine_test, y_wine_pred_tree))\n",
        "print(\"\\nWine Decision Tree Classification Report:\\n\", classification_report(y_wine_test, y_wine_pred_tree))\n",
        "print(\"\\nWine Decision Tree Confusion Matrix:\\n\", confusion_matrix(y_wine_test, y_wine_pred_tree))\n"
      ],
      "metadata": {
        "colab": {
          "base_uri": "https://localhost:8080/"
        },
        "id": "OWdna2qF-aj5",
        "outputId": "0a52ff31-e886-4e11-a82b-92e57a6f495a"
      },
      "execution_count": null,
      "outputs": [
        {
          "output_type": "stream",
          "name": "stdout",
          "text": [
            "Wine Decision Tree Accuracy: 0.9444444444444444\n",
            "\n",
            "Wine Decision Tree Classification Report:\n",
            "               precision    recall  f1-score   support\n",
            "\n",
            "           0       1.00      0.93      0.96        14\n",
            "           1       0.88      1.00      0.93        14\n",
            "           2       1.00      0.88      0.93         8\n",
            "\n",
            "    accuracy                           0.94        36\n",
            "   macro avg       0.96      0.93      0.94        36\n",
            "weighted avg       0.95      0.94      0.94        36\n",
            "\n",
            "\n",
            "Wine Decision Tree Confusion Matrix:\n",
            " [[13  1  0]\n",
            " [ 0 14  0]\n",
            " [ 0  1  7]]\n"
          ]
        }
      ]
    }
  ]
}