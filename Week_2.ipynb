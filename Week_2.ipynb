{
  "nbformat": 4,
  "nbformat_minor": 0,
  "metadata": {
    "colab": {
      "provenance": []
    },
    "kernelspec": {
      "name": "python3",
      "display_name": "Python 3"
    },
    "language_info": {
      "name": "python"
    }
  },
  "cells": [
    {
      "cell_type": "markdown",
      "source": [
        "# **Exercise 1**"
      ],
      "metadata": {
        "id": "jW5ify459Wsg"
      }
    },
    {
      "cell_type": "markdown",
      "source": [
        "**At first we need to install the following:**"
      ],
      "metadata": {
        "id": "8Ni2p94ww-nt"
      }
    },
    {
      "cell_type": "code",
      "source": [
        "!pip install sympy"
      ],
      "metadata": {
        "colab": {
          "base_uri": "https://localhost:8080/"
        },
        "id": "TI5uynu6Nn77",
        "outputId": "1c84f9c6-690a-486e-c91e-c2daa331b610"
      },
      "execution_count": null,
      "outputs": [
        {
          "output_type": "stream",
          "name": "stdout",
          "text": [
            "Requirement already satisfied: sympy in /usr/local/lib/python3.10/dist-packages (1.12.1)\n",
            "Requirement already satisfied: mpmath<1.4.0,>=1.1.0 in /usr/local/lib/python3.10/dist-packages (from sympy) (1.3.0)\n"
          ]
        }
      ]
    },
    {
      "cell_type": "code",
      "source": [
        "!pip install minikanren"
      ],
      "metadata": {
        "colab": {
          "base_uri": "https://localhost:8080/"
        },
        "id": "QosiYkwjNtLZ",
        "outputId": "c68c7624-3139-48cb-8367-2e2508d84ef6"
      },
      "execution_count": null,
      "outputs": [
        {
          "output_type": "stream",
          "name": "stdout",
          "text": [
            "Requirement already satisfied: minikanren in /usr/local/lib/python3.10/dist-packages (1.0.3)\n",
            "Requirement already satisfied: toolz in /usr/local/lib/python3.10/dist-packages (from minikanren) (0.12.1)\n",
            "Requirement already satisfied: cons>=0.4.0 in /usr/local/lib/python3.10/dist-packages (from minikanren) (0.4.6)\n",
            "Requirement already satisfied: multipledispatch in /usr/local/lib/python3.10/dist-packages (from minikanren) (1.0.0)\n",
            "Requirement already satisfied: etuples>=0.3.1 in /usr/local/lib/python3.10/dist-packages (from minikanren) (0.3.9)\n",
            "Requirement already satisfied: logical-unification>=0.4.1 in /usr/local/lib/python3.10/dist-packages (from minikanren) (0.4.6)\n"
          ]
        }
      ]
    },
    {
      "cell_type": "markdown",
      "source": [
        "**At first we need to download the JSON File relationship.json which is provided in canvas download it and paste it where you create new Jupyter notebook.**"
      ],
      "metadata": {
        "id": "2ftOQgH9OfTT"
      }
    },
    {
      "cell_type": "code",
      "source": [
        "import json\n",
        "from kanren import run, facts, eq, Relation, var, conde"
      ],
      "metadata": {
        "id": "WdRioPT9NxGS"
      },
      "execution_count": null,
      "outputs": []
    },
    {
      "cell_type": "markdown",
      "source": [
        "**Next we will define some rules for relationships:**"
      ],
      "metadata": {
        "id": "i8tw1ooqxEcj"
      }
    },
    {
      "cell_type": "code",
      "source": [
        "def parent(x,y):\n",
        "    return conde ([father(x,y)], [mother(x,y)])\n",
        "\n",
        "def grandparent(x,y):\n",
        "    temp = var()\n",
        "    return conde ((parent(x, temp), parent(temp, y)))\n",
        "\n",
        "def sibiling(x,y):\n",
        "    temp = var()\n",
        "    return conde ((parent(x, temp), parent(temp, y)))\n",
        "\n",
        "def uncle(x,y):\n",
        "    temp = var()\n",
        "    return conde ((parent(x, temp), parent(temp)))\n",
        "\n",
        "def uncle(x,y):\n",
        "    temp = var()\n",
        "    return conde ((father(temp, x), grandparent(temp, y)))"
      ],
      "metadata": {
        "id": "UzrfXOLHN4g5"
      },
      "execution_count": null,
      "outputs": []
    },
    {
      "cell_type": "markdown",
      "source": [
        "**Next we access our file and set parental relationships**"
      ],
      "metadata": {
        "id": "n-aV6gegxKiT"
      }
    },
    {
      "cell_type": "code",
      "source": [
        "if __name__ ==  '__main__':\n",
        "    father = Relation()\n",
        "    mother = Relation()\n",
        "    sibiling = Relation()\n",
        "    uncle = Relation()\n",
        "    uncle = Relation()\n",
        "\n",
        "    with open('relationships.json') as f:\n",
        "        d = json.loads(f.read())\n",
        "\n",
        "    for item in d['father']:\n",
        "        facts(father,(list(item.keys())[0], list(item.values())[0]))\n",
        "\n",
        "    for item in d['mother']:\n",
        "        facts(mother,(list(item.keys())[0], list(item.values())[0]))\n",
        "\n",
        "    for item in d['sibiling']:\n",
        "        facts(sibiling,(list(item.keys())[0], list(item.values())[0]))\n",
        "\n",
        "    for item in d['uncle']:\n",
        "        facts(uncle,(list(item.keys())[0], list(item.values())[0]))\n",
        "\n",
        "    for item in d['uncle']:\n",
        "        facts(uncle,(list(item.keys())[0], list(item.values())[0]))\n",
        "\n",
        "    x = var()\n"
      ],
      "metadata": {
        "id": "VQjlQetKOJ3z"
      },
      "execution_count": null,
      "outputs": []
    },
    {
      "cell_type": "markdown",
      "source": [
        "**With that now setup, we can run a set of further queeries on the information using the relationships we defined earlier in the code**"
      ],
      "metadata": {
        "id": "pJ70333ixR67"
      }
    },
    {
      "cell_type": "code",
      "source": [
        "name = 'John'\n",
        "output = run(0, x, father(name, x))\n",
        "\n",
        "print(name +' Children are: ')\n",
        "\n",
        "for item in output:\n",
        "    print(item)"
      ],
      "metadata": {
        "colab": {
          "base_uri": "https://localhost:8080/"
        },
        "id": "EjtlmcyUOQWL",
        "outputId": "e408f01b-b531-47b2-f62c-cb694a279a4c"
      },
      "execution_count": null,
      "outputs": [
        {
          "output_type": "stream",
          "name": "stdout",
          "text": [
            "John Children are: \n",
            "David\n",
            "Adam\n",
            "William\n"
          ]
        }
      ]
    },
    {
      "cell_type": "code",
      "source": [
        "name = 'Adam'\n",
        "output = run(0, x, parent(name, x))\n",
        "\n",
        "print(name + ' parents are: ')\n",
        "\n",
        "for item in output:\n",
        "    print(item)\n"
      ],
      "metadata": {
        "colab": {
          "base_uri": "https://localhost:8080/"
        },
        "id": "zcICi5GMOSjr",
        "outputId": "7fa4ab69-2b4f-4f85-ae60-74e8e5dc0297"
      },
      "execution_count": null,
      "outputs": [
        {
          "output_type": "stream",
          "name": "stdout",
          "text": [
            "Adam parents are: \n",
            "Sophia\n"
          ]
        }
      ]
    },
    {
      "cell_type": "code",
      "source": [
        "name = 'Megan'\n",
        "output = run(0,x,grandparent(name, x))\n",
        "\n",
        "print(name + ' gc are: ', output)"
      ],
      "metadata": {
        "colab": {
          "base_uri": "https://localhost:8080/"
        },
        "id": "j27aeqwjOU1C",
        "outputId": "ab89e529-2376-48c4-d8b9-6b3d24561463"
      },
      "execution_count": null,
      "outputs": [
        {
          "output_type": "stream",
          "name": "stdout",
          "text": [
            "Megan gc are:  ('Sophia', 'Neil', 'Chris', 'Wayne', 'Stephanie', 'Julie', 'Tiffany', 'Peter')\n"
          ]
        }
      ]
    },
    {
      "cell_type": "markdown",
      "source": [
        "**Script to find Davids Sibiling**"
      ],
      "metadata": {
        "id": "oDGEMfhh8vbg"
      }
    },
    {
      "cell_type": "code",
      "source": [
        "name = 'David'\n",
        "output = run(0, x, sibiling(name, x))\n",
        "\n",
        "print(name+ ' sibiling are: ')\n",
        "\n",
        "for item in output:\n",
        "  print (item)\n"
      ],
      "metadata": {
        "colab": {
          "base_uri": "https://localhost:8080/"
        },
        "id": "9zu0tBRgzMFD",
        "outputId": "155b6eab-fed1-41a8-fde4-9786ccf505a5"
      },
      "execution_count": null,
      "outputs": [
        {
          "output_type": "stream",
          "name": "stdout",
          "text": [
            "David sibiling are: \n",
            "Neil\n",
            "Wayne\n",
            "Adam\n",
            "Julie\n",
            "Tiffany\n",
            "Peter\n",
            "William\n"
          ]
        }
      ]
    },
    {
      "cell_type": "markdown",
      "source": [
        "**Script to find Tiffany**"
      ],
      "metadata": {
        "id": "CI-SX3ox876h"
      }
    },
    {
      "cell_type": "code",
      "source": [
        "name = 'Tiffany'\n",
        "output = run(0, x, uncle(name, x))\n",
        "\n",
        "print(name + ' uncle are: ')\n",
        "\n",
        "for item in output:\n",
        "  print(item)"
      ],
      "metadata": {
        "colab": {
          "base_uri": "https://localhost:8080/"
        },
        "id": "48sS0S3EzRjz",
        "outputId": "006d14b2-1139-45ff-ecc4-d05d4dc033c6"
      },
      "execution_count": null,
      "outputs": [
        {
          "output_type": "stream",
          "name": "stdout",
          "text": [
            "Tiffany uncle are: \n",
            "Adam\n",
            "William\n",
            "John\n"
          ]
        }
      ]
    },
    {
      "cell_type": "markdown",
      "source": [
        "**Script to find all Spouses**"
      ],
      "metadata": {
        "id": "m2K25GPe9Bco"
      }
    },
    {
      "cell_type": "code",
      "source": [
        "for item in data.get('uncle', []):\n",
        "    facts(uncle_relation, (list(item.keys())[0], list(item.values())[0]))"
      ],
      "metadata": {
        "id": "lorYSCJx6VRy"
      },
      "execution_count": null,
      "outputs": []
    },
    {
      "cell_type": "code",
      "source": [
        "x = var()\n",
        "y = var()\n",
        "results = run(0, (x, y), uncle(x, y))\n",
        "\n",
        "print(\" All Spouses:\", results)"
      ],
      "metadata": {
        "colab": {
          "base_uri": "https://localhost:8080/"
        },
        "id": "egunukd38aEh",
        "outputId": "528faf7b-d355-4245-c7e9-f2e7a6ca6b06"
      },
      "execution_count": null,
      "outputs": [
        {
          "output_type": "stream",
          "name": "stdout",
          "text": [
            " All Spouses: (('Tiffany', 'Adam'), ('Tiffany', 'William'), ('Tiffany', 'John'))\n"
          ]
        }
      ]
    },
    {
      "cell_type": "markdown",
      "source": [
        "# **Exercise 2**"
      ],
      "metadata": {
        "id": "eEjMcAHd9bVp"
      }
    },
    {
      "cell_type": "markdown",
      "source": [
        "To complete this example, you will need to download the two text files, `adjacent_states.txt` and `coastal_states.txt`, from Canvas. Save them into the AI folder. Then, run Anaconda and open a new file in Jupyter Notebook. Rename this file to `states` and type the following import command:"
      ],
      "metadata": {
        "id": "9n5aw0vqFmjY"
      }
    },
    {
      "cell_type": "code",
      "source": [
        "import json\n",
        "from kanren import run, fact, eq, Relation, var, conde"
      ],
      "metadata": {
        "id": "Ih_uN0JW9djA"
      },
      "execution_count": null,
      "outputs": []
    },
    {
      "cell_type": "markdown",
      "source": [
        "**This will set up the imports needed for us to run queries on the information in our files. Then add the following code:**"
      ],
      "metadata": {
        "id": "dJ0N4lqyF_fv"
      }
    },
    {
      "cell_type": "code",
      "source": [
        "from kanren import run, fact, eq, Relation, var\n",
        "\n",
        "adjacent = Relation()\n",
        "costal = Relation()"
      ],
      "metadata": {
        "id": "1Tdg-a4o9kdn"
      },
      "execution_count": null,
      "outputs": []
    },
    {
      "cell_type": "markdown",
      "source": [
        "**Next, we specify our files:**"
      ],
      "metadata": {
        "id": "X8uEuKksGQKA"
      }
    },
    {
      "cell_type": "code",
      "source": [
        "file_costal = 'costal_states.txt'\n",
        "file_adjacent = 'adjacent_states.txt'"
      ],
      "metadata": {
        "id": "MMqATdAk9w3A"
      },
      "execution_count": null,
      "outputs": []
    },
    {
      "cell_type": "markdown",
      "source": [
        "**Then we read the file contents and add the information they contain to the fact base for our program:**"
      ],
      "metadata": {
        "id": "bdBFfUlgGWyf"
      }
    },
    {
      "cell_type": "code",
      "source": [
        "# Read the file containing the costal states\n",
        "with open (file_costal, 'r') as f:\n",
        "  line = f.read()\n",
        "  costal_states = line.split(',')\n",
        "\n",
        "# Add the info to the fact base\n",
        "for state in costal_states:\n",
        "  fact(costal, state)\n",
        "\n",
        "# Read the file containing the costal states\n",
        "with open(file_adjacent, 'r') as f:\n",
        "  adjlist = [line.strip().split(',') for line in f if line and line[0].isalpha()]\n",
        "\n",
        "# Add the info to the fact base\n",
        "for L in adjlist:\n",
        "  head, tail = L[0], L[1:]\n",
        "  for state in tail:\n",
        "    fact(adjacent, head, state)"
      ],
      "metadata": {
        "id": "lpdCIx5V-W3I"
      },
      "execution_count": null,
      "outputs": []
    },
    {
      "cell_type": "markdown",
      "source": [
        "**Now we can initialise the variables we need to be able to perform some queries:**\n"
      ],
      "metadata": {
        "id": "qTdfFQEXGf7P"
      }
    },
    {
      "cell_type": "code",
      "source": [
        "# Initialize the variables\n",
        "x = var()\n",
        "y = var()"
      ],
      "metadata": {
        "id": "hI05b0Kl_HxA"
      },
      "execution_count": null,
      "outputs": []
    },
    {
      "cell_type": "markdown",
      "source": [
        "**We are finally ready to run some queries on our data – try the following:\n",
        "Example 1: # Is Nevada adjacent to Louisiana?**"
      ],
      "metadata": {
        "id": "sN4vUz-sGkEA"
      }
    },
    {
      "cell_type": "code",
      "source": [
        "# Is Nevada adjacent to Louisiana?\n",
        "output = run(0, x, adjacent('Nevada', 'Louisiana'))\n",
        "print('\\nIs Nevada adjecent to Louisiana?:')\n",
        "print('Yes' if len(output) else 'No')"
      ],
      "metadata": {
        "colab": {
          "base_uri": "https://localhost:8080/"
        },
        "id": "Vg1AfJsoBGNg",
        "outputId": "99e01751-9fde-45c5-bc0a-98da8819e5a5"
      },
      "execution_count": null,
      "outputs": [
        {
          "output_type": "stream",
          "name": "stdout",
          "text": [
            "\n",
            "Is Nevada adjecent to Louisiana?:\n",
            "No\n"
          ]
        }
      ]
    },
    {
      "cell_type": "markdown",
      "source": [
        "**Example 2: States adjacent to Oregon**"
      ],
      "metadata": {
        "id": "lJ-_Y0-0GvLX"
      }
    },
    {
      "cell_type": "code",
      "source": [
        "# State adjacent to Oregon\n",
        "\n",
        "output = run(0, x, adjacent('Oregon', x))\n",
        "print('\\nList of states adjacent to Oregon: ')\n",
        "for item in output:\n",
        "  print(item)"
      ],
      "metadata": {
        "colab": {
          "base_uri": "https://localhost:8080/"
        },
        "id": "F0NPYo55Bflv",
        "outputId": "64b6a0cd-f328-4356-eb76-dfe482566eb5"
      },
      "execution_count": null,
      "outputs": [
        {
          "output_type": "stream",
          "name": "stdout",
          "text": [
            "\n",
            "List of states adjacent to Oregon: \n",
            "Idaho\n",
            "California\n",
            "Washington\n",
            "Nevada\n"
          ]
        }
      ]
    },
    {
      "cell_type": "markdown",
      "source": [
        "**Example 3: State adjacent to Mississippi that are costal**"
      ],
      "metadata": {
        "id": "slCGUem0G1ff"
      }
    },
    {
      "cell_type": "code",
      "source": [
        "# States adjacent to Mississippi that are coastal\n",
        "output = run(0, x, adjacent('Mississippi', x), costal(x))\n",
        "print('\\nList of coastal states adjacent to Mississippi')\n",
        "for item in output:\n",
        "  print(item)"
      ],
      "metadata": {
        "colab": {
          "base_uri": "https://localhost:8080/"
        },
        "id": "fi1MsOlFBvsf",
        "outputId": "d4b1ae9c-cef0-4fad-f3cf-3b1d9757c0a7"
      },
      "execution_count": null,
      "outputs": [
        {
          "output_type": "stream",
          "name": "stdout",
          "text": [
            "\n",
            "List of coastal states adjacent to Mississippi\n",
            "Alabama\n",
            "Louisiana\n"
          ]
        }
      ]
    },
    {
      "cell_type": "markdown",
      "source": [
        "**Example 4: List of 'n' states that border a costal state**"
      ],
      "metadata": {
        "id": "dSjd3mpFG8mn"
      }
    },
    {
      "cell_type": "code",
      "source": [
        "# list on 'n' states that border a costal state\n",
        "n = 7\n",
        "output = run(n, x, costal(y), adjacent(x, y))\n",
        "print('\\nList of ' + str(n) + ' states that border a costal state: ')\n",
        "for item in output:\n",
        "  print (item)"
      ],
      "metadata": {
        "colab": {
          "base_uri": "https://localhost:8080/"
        },
        "id": "gvOlqOkoCDBo",
        "outputId": "783da343-9144-42c9-e923-1ceaeb899414"
      },
      "execution_count": null,
      "outputs": [
        {
          "output_type": "stream",
          "name": "stdout",
          "text": [
            "\n",
            "List of 7 states that border a costal state: \n",
            "Mississippi\n",
            "Arizona\n",
            "New Jersey\n",
            "California\n",
            "North Carolina\n",
            "Arkansas\n",
            "Georgia\n"
          ]
        }
      ]
    },
    {
      "cell_type": "markdown",
      "source": [
        "**Example 5: List of states tha adjacent to the two given states**"
      ],
      "metadata": {
        "id": "jGB-xF_HHFrH"
      }
    },
    {
      "cell_type": "code",
      "source": [
        "# List of the states that adjaacent to the two given states\n",
        "output = run(0, x, adjacent('Arkansas', x), adjacent('Kentucky', x))\n",
        "print('\\nList of the states that are adjacent to Arkansas and Kentucky:')\n",
        "for item in output:\n",
        "  print (item)"
      ],
      "metadata": {
        "colab": {
          "base_uri": "https://localhost:8080/"
        },
        "id": "TUTVOUmhCpT_",
        "outputId": "b01d539b-188b-4e78-bd45-a21e9373234f"
      },
      "execution_count": null,
      "outputs": [
        {
          "output_type": "stream",
          "name": "stdout",
          "text": [
            "\n",
            "List of the states that are adjacent to Arkansas and Kentucky:\n",
            "Missouri\n",
            "Tennessee\n"
          ]
        }
      ]
    },
    {
      "cell_type": "markdown",
      "source": [
        "**Adding more querie**"
      ],
      "metadata": {
        "id": "JZX-N7yaEgAP"
      }
    },
    {
      "cell_type": "markdown",
      "source": [
        "**States that are coastal:**"
      ],
      "metadata": {
        "id": "k5DPvEUxFKNA"
      }
    },
    {
      "cell_type": "code",
      "source": [
        "output = run(0, x, costal(x))\n",
        "print('\\nList of coastal states:')\n",
        "for item in output:\n",
        "    print(item)"
      ],
      "metadata": {
        "colab": {
          "base_uri": "https://localhost:8080/"
        },
        "id": "8FXfN9ZFDDIo",
        "outputId": "fb1720f3-0dfb-422e-c9de-88162861721c"
      },
      "execution_count": null,
      "outputs": [
        {
          "output_type": "stream",
          "name": "stdout",
          "text": [
            "\n",
            "List of coastal states:\n",
            "Louisiana\n",
            "California\n",
            "New York\n",
            "New\n",
            "Jersey\n",
            "Oregon\n",
            "Georgia\n",
            "Texas\n",
            "South Carolina\n",
            "Rhode Island\n",
            "Michigan\n",
            "North Carolina\n",
            "Washington\n",
            "Virgin Islands\n",
            "Alabama\n",
            "Minnesota\n",
            "Maryland\n",
            "Connecticut\n",
            "Flor\n",
            "ida\n",
            "New\n",
            "Hampshire\n",
            "Massachusetts\n",
            "Delaware\n"
          ]
        }
      ]
    },
    {
      "cell_type": "markdown",
      "source": [
        "**States that are coastal:**"
      ],
      "metadata": {
        "id": "dIGQkdcFFM3-"
      }
    },
    {
      "cell_type": "code",
      "source": [
        "z = var()\n",
        "output = run(0, x, adjacent(x, y), adjacent(x, z), eq(y, z))\n",
        "print('\\nList of states that border at least two other states:')\n",
        "for item in output:\n",
        "    print(item)"
      ],
      "metadata": {
        "colab": {
          "base_uri": "https://localhost:8080/"
        },
        "id": "TcCneyOOEkCp",
        "outputId": "f568c7bc-30c3-4e44-d042-b87bb0b2ba8a"
      },
      "execution_count": null,
      "outputs": [
        {
          "output_type": "stream",
          "name": "stdout",
          "text": [
            "\n",
            "List of states that border at least two other states:\n",
            "Arkansas\n",
            "Idaho\n",
            "Carolina\n",
            "Missouri\n",
            "New Jersey\n",
            "Virginia\n",
            "Wyoming\n",
            "Colorado\n",
            "Ohio\n",
            "North Carolina\n",
            "Kentucky\n",
            "Montana\n",
            "New York\n",
            "New Hampshire\n",
            "California\n",
            "Mississippi\n",
            "Arizona\n",
            "Oklahoma\n",
            "Georgia\n",
            "Iowa\n",
            "Oregon\n",
            "Utah\n",
            "North Dakota\n",
            "South Dakota\n",
            "Florida\n",
            "Vermont\n",
            "Michigan\n",
            "Connecticut\n",
            "Kansas\n",
            "Maryland\n",
            "Washington\n",
            "Minnesota\n",
            "Illinois\n",
            "Pennsylvania\n",
            "Massachusetts\n",
            "Nebraska\n",
            "Indiana\n",
            "West Virginia\n",
            "Tennessee\n",
            "Wisconsin\n",
            "Louisiana\n",
            "New Mexico\n",
            "District of Columbia\n",
            "Rhode Island\n",
            "Delaware\n",
            "Nevada\n",
            "South Carolina\n",
            "Alabama\n",
            "Texas\n",
            "Maine\n",
            "Wyoming\n",
            "Arkansas\n",
            "Kentucky\n",
            "Virginia\n",
            "Carolina\n",
            "Georgia\n",
            "Missouri\n",
            "Michigan\n",
            "Oklahoma\n",
            "Colorado\n",
            "New Hampshire\n",
            "California\n",
            "Maryland\n",
            "North Carolina\n",
            "Ohio\n",
            "Illinois\n",
            "Connecticut\n",
            "Arizona\n",
            "Indiana\n",
            "New York\n",
            "Pennsylvania\n",
            "West Virginia\n",
            "Kansas\n",
            "North Dakota\n",
            "Louisiana\n",
            "Oregon\n",
            "Tennessee\n",
            "Iowa\n",
            "Minnesota\n",
            "District of Columbia\n",
            "Vermont\n",
            "Nebraska\n",
            "South Dakota\n",
            "Utah\n",
            "New Mexico\n",
            "Wisconsin\n",
            "Nevada\n",
            "Montana\n",
            "Massachusetts\n",
            "Idaho\n",
            "Alabama\n",
            "Washington\n",
            "Rhode Island\n",
            "Texas\n",
            "Delaware\n",
            "New Jersey\n",
            "Florida\n",
            "Mississippi\n",
            "South Carolina\n",
            "Arkansas\n",
            "Wyoming\n",
            "Missouri\n",
            "Kentucky\n",
            "Oklahoma\n",
            "Arizona\n",
            "Virginia\n",
            "Pennsylvania\n",
            "Carolina\n",
            "Colorado\n",
            "Georgia\n",
            "West Virginia\n",
            "Illinois\n",
            "Iowa\n",
            "California\n",
            "Indiana\n",
            "New York\n",
            "Louisiana\n",
            "North Carolina\n",
            "Ohio\n",
            "Kansas\n",
            "Maryland\n",
            "Nebraska\n",
            "New Mexico\n",
            "Montana\n",
            "Wisconsin\n",
            "Massachusetts\n",
            "Connecticut\n",
            "Utah\n",
            "Alabama\n",
            "South Dakota\n",
            "Oregon\n",
            "Vermont\n",
            "Idaho\n",
            "Nevada\n",
            "Tennessee\n",
            "New Hampshire\n",
            "New Jersey\n",
            "Michigan\n",
            "Minnesota\n",
            "Texas\n",
            "Delaware\n",
            "Mississippi\n",
            "North Dakota\n",
            "Arkansas\n",
            "Missouri\n",
            "Oklahoma\n",
            "Kentucky\n",
            "Virginia\n",
            "Arizona\n",
            "Colorado\n",
            "Ohio\n",
            "North Carolina\n",
            "Illinois\n",
            "Kansas\n",
            "Indiana\n",
            "New Mexico\n",
            "Wyoming\n",
            "Iowa\n",
            "Pennsylvania\n",
            "Nebraska\n",
            "Utah\n",
            "Maryland\n",
            "Georgia\n",
            "Massachusetts\n",
            "Montana\n",
            "Wisconsin\n",
            "Idaho\n",
            "Nevada\n",
            "New York\n",
            "West Virginia\n",
            "South Dakota\n",
            "Alabama\n",
            "Carolina\n",
            "Oregon\n",
            "Texas\n",
            "Minnesota\n",
            "Mississippi\n",
            "Missouri\n",
            "Colorado\n",
            "Illinois\n",
            "Kentucky\n",
            "Nebraska\n",
            "New Mexico\n",
            "Georgia\n",
            "Utah\n",
            "Arkansas\n",
            "Virginia\n",
            "Massachusetts\n",
            "Iowa\n",
            "Arizona\n",
            "Ohio\n",
            "Pennsylvania\n",
            "Maryland\n",
            "Wyoming\n",
            "Oklahoma\n",
            "West Virginia\n",
            "Idaho\n",
            "South Dakota\n",
            "Carolina\n",
            "Nevada\n",
            "New York\n",
            "Missouri\n",
            "Colorado\n",
            "Virginia\n",
            "Utah\n",
            "Oklahoma\n",
            "Arkansas\n",
            "Iowa\n",
            "Nebraska\n",
            "Pennsylvania\n",
            "Idaho\n",
            "Kentucky\n",
            "South Dakota\n",
            "Wyoming\n",
            "Missouri\n",
            "Colorado\n",
            "Kentucky\n",
            "Missouri\n"
          ]
        }
      ]
    },
    {
      "cell_type": "markdown",
      "source": [
        "**States that are not coastal but border a coastal state:**"
      ],
      "metadata": {
        "id": "bQi5YTwIFPGu"
      }
    },
    {
      "cell_type": "code",
      "source": [
        "output = run(0, x, adjacent(x, y), costal(y), costal(x))\n",
        "print('\\nList of states that are not coastal but border a coastal state:')\n",
        "for item in output:\n",
        "    print(item)"
      ],
      "metadata": {
        "colab": {
          "base_uri": "https://localhost:8080/"
        },
        "id": "h4z88_TvEoWf",
        "outputId": "7daa9fb9-597f-4a69-df90-f06e953b0e34"
      },
      "execution_count": null,
      "outputs": [
        {
          "output_type": "stream",
          "name": "stdout",
          "text": [
            "\n",
            "List of states that are not coastal but border a coastal state:\n",
            "New York\n",
            "Georgia\n",
            "Connecticut\n",
            "California\n",
            "Washington\n",
            "North Carolina\n",
            "Connecticut\n",
            "Louisiana\n",
            "Oregon\n",
            "Rhode Island\n",
            "North Carolina\n",
            "South Carolina\n",
            "Maryland\n",
            "Alabama\n",
            "Massachusetts\n",
            "Connecticut\n",
            "Georgia\n",
            "Rhode Island\n",
            "Massachusetts\n",
            "Georgia\n",
            "Oregon\n",
            "Delaware\n",
            "Massachusetts\n",
            "New York\n",
            "South Carolina\n",
            "Texas\n"
          ]
        }
      ]
    },
    {
      "cell_type": "markdown",
      "source": [
        "**States that are both coastal and border more than one state:**"
      ],
      "metadata": {
        "id": "tGTyMpvyFSue"
      }
    },
    {
      "cell_type": "code",
      "source": [
        "neighbors = [var() for _ in range(2)]\n",
        "output = run(0, x, costal(x), adjacent(x, neighbors[0]), adjacent(x, neighbors[1]), eq(neighbors[0], neighbors[1]))\n",
        "print('\\nList of states that are both coastal and border more than one state:')\n",
        "for item in output:\n",
        "    print(item)\n"
      ],
      "metadata": {
        "colab": {
          "base_uri": "https://localhost:8080/"
        },
        "id": "4tbq89XiFE_3",
        "outputId": "5635f60b-98ce-4cf9-f4b3-24ceb7b7ec35"
      },
      "execution_count": null,
      "outputs": [
        {
          "output_type": "stream",
          "name": "stdout",
          "text": [
            "\n",
            "List of states that are both coastal and border more than one state:\n",
            "Louisiana\n",
            "California\n",
            "New York\n",
            "Oregon\n",
            "Georgia\n",
            "Texas\n",
            "South Carolina\n",
            "Rhode Island\n",
            "Michigan\n",
            "North Carolina\n",
            "Washington\n",
            "Alabama\n",
            "Minnesota\n",
            "Maryland\n",
            "Connecticut\n",
            "Massachusetts\n",
            "Delaware\n",
            "Louisiana\n",
            "California\n",
            "New York\n",
            "Oregon\n",
            "Georgia\n",
            "Texas\n",
            "South Carolina\n",
            "Rhode Island\n",
            "Michigan\n",
            "North Carolina\n",
            "Washington\n",
            "Alabama\n",
            "Minnesota\n",
            "Maryland\n",
            "Connecticut\n",
            "Massachusetts\n",
            "Delaware\n",
            "Louisiana\n",
            "California\n",
            "New York\n",
            "Oregon\n",
            "Georgia\n",
            "Texas\n",
            "Michigan\n",
            "North Carolina\n",
            "Alabama\n",
            "Minnesota\n",
            "Maryland\n",
            "Connecticut\n",
            "Massachusetts\n",
            "Delaware\n",
            "New York\n",
            "Oregon\n",
            "Georgia\n",
            "Texas\n",
            "North Carolina\n",
            "Alabama\n",
            "Minnesota\n",
            "Maryland\n",
            "Massachusetts\n",
            "New York\n",
            "Georgia\n",
            "Maryland\n",
            "Massachusetts\n"
          ]
        }
      ]
    }
  ]
}