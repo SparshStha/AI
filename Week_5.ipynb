{
  "nbformat": 4,
  "nbformat_minor": 0,
  "metadata": {
    "colab": {
      "provenance": []
    },
    "kernelspec": {
      "name": "python3",
      "display_name": "Python 3"
    },
    "language_info": {
      "name": "python"
    }
  },
  "cells": [
    {
      "cell_type": "markdown",
      "source": [
        "# **Exercise 1**\n",
        "**Environment Setup**\n",
        "\n",
        "In this workshop we will be using NLTK library, for the text processing, thus initally we need to install it..\n",
        "\n",
        "    !pip install nltk"
      ],
      "metadata": {
        "id": "Grt581-LBWK9"
      }
    },
    {
      "cell_type": "code",
      "execution_count": null,
      "metadata": {
        "colab": {
          "base_uri": "https://localhost:8080/"
        },
        "id": "1bJhObex-20X",
        "outputId": "da5e9441-0106-470a-c703-389aa7647fa4"
      },
      "outputs": [
        {
          "output_type": "stream",
          "name": "stdout",
          "text": [
            "Requirement already satisfied: nltk in /usr/local/lib/python3.10/dist-packages (3.8.1)\n",
            "Requirement already satisfied: click in /usr/local/lib/python3.10/dist-packages (from nltk) (8.1.7)\n",
            "Requirement already satisfied: joblib in /usr/local/lib/python3.10/dist-packages (from nltk) (1.4.2)\n",
            "Requirement already satisfied: regex>=2021.8.3 in /usr/local/lib/python3.10/dist-packages (from nltk) (2024.5.15)\n",
            "Requirement already satisfied: tqdm in /usr/local/lib/python3.10/dist-packages (from nltk) (4.66.4)\n"
          ]
        }
      ],
      "source": [
        "!pip install nltk"
      ]
    },
    {
      "cell_type": "markdown",
      "source": [
        "# **Exercise 2**\n"
      ],
      "metadata": {
        "id": "ccWEw4GxHQ_1"
      }
    },
    {
      "cell_type": "markdown",
      "source": [
        "Install nltk package\n",
        "\n",
        "    import nltk\n",
        "    nltk.download()"
      ],
      "metadata": {
        "id": "jqsa8TaDBnbU"
      }
    },
    {
      "cell_type": "code",
      "source": [
        "import nltk\n",
        "nltk.download()"
      ],
      "metadata": {
        "colab": {
          "base_uri": "https://localhost:8080/"
        },
        "id": "4I7z3a2lBmQ8",
        "outputId": "b1cd4695-908b-4fd4-b80b-259ac3141c76"
      },
      "execution_count": null,
      "outputs": [
        {
          "name": "stdout",
          "output_type": "stream",
          "text": [
            "NLTK Downloader\n",
            "---------------------------------------------------------------------------\n",
            "    d) Download   l) List    u) Update   c) Config   h) Help   q) Quit\n",
            "---------------------------------------------------------------------------\n",
            "Downloader> d\n",
            "\n",
            "Download which package (l=list; x=cancel)?\n",
            "  Identifier> all\n"
          ]
        },
        {
          "output_type": "stream",
          "name": "stderr",
          "text": [
            "    Downloading collection 'all'\n",
            "       | \n",
            "       | Downloading package abc to /root/nltk_data...\n",
            "       |   Package abc is already up-to-date!\n",
            "       | Downloading package alpino to /root/nltk_data...\n",
            "       |   Package alpino is already up-to-date!\n",
            "       | Downloading package averaged_perceptron_tagger to\n",
            "       |     /root/nltk_data...\n",
            "       |   Package averaged_perceptron_tagger is already up-to-date!\n",
            "       | Downloading package averaged_perceptron_tagger_ru to\n",
            "       |     /root/nltk_data...\n",
            "       |   Package averaged_perceptron_tagger_ru is already up-to-\n",
            "       |       date!\n",
            "       | Downloading package basque_grammars to /root/nltk_data...\n",
            "       |   Package basque_grammars is already up-to-date!\n",
            "       | Downloading package bcp47 to /root/nltk_data...\n",
            "       |   Package bcp47 is already up-to-date!\n",
            "       | Downloading package biocreative_ppi to /root/nltk_data...\n",
            "       |   Package biocreative_ppi is already up-to-date!\n",
            "       | Downloading package bllip_wsj_no_aux to /root/nltk_data...\n",
            "       |   Package bllip_wsj_no_aux is already up-to-date!\n",
            "       | Downloading package book_grammars to /root/nltk_data...\n",
            "       |   Package book_grammars is already up-to-date!\n",
            "       | Downloading package brown to /root/nltk_data...\n",
            "       |   Package brown is already up-to-date!\n",
            "       | Downloading package brown_tei to /root/nltk_data...\n",
            "       |   Package brown_tei is already up-to-date!\n",
            "       | Downloading package cess_cat to /root/nltk_data...\n",
            "       |   Package cess_cat is already up-to-date!\n",
            "       | Downloading package cess_esp to /root/nltk_data...\n",
            "       |   Package cess_esp is already up-to-date!\n",
            "       | Downloading package chat80 to /root/nltk_data...\n",
            "       |   Package chat80 is already up-to-date!\n",
            "       | Downloading package city_database to /root/nltk_data...\n",
            "       |   Package city_database is already up-to-date!\n",
            "       | Downloading package cmudict to /root/nltk_data...\n",
            "       |   Package cmudict is already up-to-date!\n",
            "       | Downloading package comparative_sentences to\n",
            "       |     /root/nltk_data...\n",
            "       |   Package comparative_sentences is already up-to-date!\n",
            "       | Downloading package comtrans to /root/nltk_data...\n",
            "       |   Package comtrans is already up-to-date!\n",
            "       | Downloading package conll2000 to /root/nltk_data...\n",
            "       |   Package conll2000 is already up-to-date!\n",
            "       | Downloading package conll2002 to /root/nltk_data...\n",
            "       |   Package conll2002 is already up-to-date!\n",
            "       | Downloading package conll2007 to /root/nltk_data...\n",
            "       |   Package conll2007 is already up-to-date!\n",
            "       | Downloading package crubadan to /root/nltk_data...\n",
            "       |   Package crubadan is already up-to-date!\n",
            "       | Downloading package dependency_treebank to /root/nltk_data...\n",
            "       |   Package dependency_treebank is already up-to-date!\n",
            "       | Downloading package dolch to /root/nltk_data...\n",
            "       |   Package dolch is already up-to-date!\n",
            "       | Downloading package europarl_raw to /root/nltk_data...\n",
            "       |   Package europarl_raw is already up-to-date!\n",
            "       | Downloading package extended_omw to /root/nltk_data...\n",
            "       |   Package extended_omw is already up-to-date!\n",
            "       | Downloading package floresta to /root/nltk_data...\n",
            "       |   Package floresta is already up-to-date!\n",
            "       | Downloading package framenet_v15 to /root/nltk_data...\n",
            "       |   Package framenet_v15 is already up-to-date!\n",
            "       | Downloading package framenet_v17 to /root/nltk_data...\n",
            "       |   Package framenet_v17 is already up-to-date!\n",
            "       | Downloading package gazetteers to /root/nltk_data...\n",
            "       |   Package gazetteers is already up-to-date!\n",
            "       | Downloading package genesis to /root/nltk_data...\n",
            "       |   Package genesis is already up-to-date!\n",
            "       | Downloading package gutenberg to /root/nltk_data...\n",
            "       |   Package gutenberg is already up-to-date!\n",
            "       | Downloading package ieer to /root/nltk_data...\n",
            "       |   Package ieer is already up-to-date!\n",
            "       | Downloading package inaugural to /root/nltk_data...\n",
            "       |   Package inaugural is already up-to-date!\n",
            "       | Downloading package indian to /root/nltk_data...\n",
            "       |   Package indian is already up-to-date!\n",
            "       | Downloading package jeita to /root/nltk_data...\n",
            "       |   Package jeita is already up-to-date!\n",
            "       | Downloading package kimmo to /root/nltk_data...\n",
            "       |   Package kimmo is already up-to-date!\n",
            "       | Downloading package knbc to /root/nltk_data...\n",
            "       |   Package knbc is already up-to-date!\n",
            "       | Downloading package large_grammars to /root/nltk_data...\n",
            "       |   Package large_grammars is already up-to-date!\n",
            "       | Downloading package lin_thesaurus to /root/nltk_data...\n",
            "       |   Package lin_thesaurus is already up-to-date!\n",
            "       | Downloading package mac_morpho to /root/nltk_data...\n",
            "       |   Package mac_morpho is already up-to-date!\n",
            "       | Downloading package machado to /root/nltk_data...\n",
            "       |   Package machado is already up-to-date!\n",
            "       | Downloading package masc_tagged to /root/nltk_data...\n",
            "       |   Package masc_tagged is already up-to-date!\n",
            "       | Downloading package maxent_ne_chunker to /root/nltk_data...\n",
            "       |   Package maxent_ne_chunker is already up-to-date!\n",
            "       | Downloading package maxent_treebank_pos_tagger to\n",
            "       |     /root/nltk_data...\n",
            "       |   Package maxent_treebank_pos_tagger is already up-to-date!\n",
            "       | Downloading package moses_sample to /root/nltk_data...\n",
            "       |   Package moses_sample is already up-to-date!\n",
            "       | Downloading package movie_reviews to /root/nltk_data...\n",
            "       |   Package movie_reviews is already up-to-date!\n",
            "       | Downloading package mte_teip5 to /root/nltk_data...\n",
            "       |   Package mte_teip5 is already up-to-date!\n",
            "       | Downloading package mwa_ppdb to /root/nltk_data...\n",
            "       |   Package mwa_ppdb is already up-to-date!\n",
            "       | Downloading package names to /root/nltk_data...\n",
            "       |   Package names is already up-to-date!\n",
            "       | Downloading package nombank.1.0 to /root/nltk_data...\n",
            "       |   Package nombank.1.0 is already up-to-date!\n",
            "       | Downloading package nonbreaking_prefixes to\n",
            "       |     /root/nltk_data...\n",
            "       |   Package nonbreaking_prefixes is already up-to-date!\n",
            "       | Downloading package nps_chat to /root/nltk_data...\n",
            "       |   Package nps_chat is already up-to-date!\n",
            "       | Downloading package omw to /root/nltk_data...\n",
            "       |   Package omw is already up-to-date!\n",
            "       | Downloading package omw-1.4 to /root/nltk_data...\n",
            "       |   Package omw-1.4 is already up-to-date!\n",
            "       | Downloading package opinion_lexicon to /root/nltk_data...\n",
            "       |   Package opinion_lexicon is already up-to-date!\n",
            "       | Downloading package panlex_swadesh to /root/nltk_data...\n",
            "       |   Package panlex_swadesh is already up-to-date!\n",
            "       | Downloading package paradigms to /root/nltk_data...\n",
            "       |   Package paradigms is already up-to-date!\n",
            "       | Downloading package pe08 to /root/nltk_data...\n",
            "       |   Package pe08 is already up-to-date!\n",
            "       | Downloading package perluniprops to /root/nltk_data...\n",
            "       |   Package perluniprops is already up-to-date!\n",
            "       | Downloading package pil to /root/nltk_data...\n",
            "       |   Package pil is already up-to-date!\n",
            "       | Downloading package pl196x to /root/nltk_data...\n",
            "       |   Package pl196x is already up-to-date!\n",
            "       | Downloading package porter_test to /root/nltk_data...\n",
            "       |   Package porter_test is already up-to-date!\n",
            "       | Downloading package ppattach to /root/nltk_data...\n",
            "       |   Package ppattach is already up-to-date!\n",
            "       | Downloading package problem_reports to /root/nltk_data...\n",
            "       |   Package problem_reports is already up-to-date!\n",
            "       | Downloading package product_reviews_1 to /root/nltk_data...\n",
            "       |   Package product_reviews_1 is already up-to-date!\n",
            "       | Downloading package product_reviews_2 to /root/nltk_data...\n",
            "       |   Package product_reviews_2 is already up-to-date!\n",
            "       | Downloading package propbank to /root/nltk_data...\n",
            "       |   Package propbank is already up-to-date!\n",
            "       | Downloading package pros_cons to /root/nltk_data...\n",
            "       |   Package pros_cons is already up-to-date!\n",
            "       | Downloading package ptb to /root/nltk_data...\n",
            "       |   Package ptb is already up-to-date!\n",
            "       | Downloading package punkt to /root/nltk_data...\n",
            "       |   Package punkt is already up-to-date!\n",
            "       | Downloading package qc to /root/nltk_data...\n",
            "       |   Package qc is already up-to-date!\n",
            "       | Downloading package reuters to /root/nltk_data...\n",
            "       |   Package reuters is already up-to-date!\n",
            "       | Downloading package rslp to /root/nltk_data...\n",
            "       |   Package rslp is already up-to-date!\n",
            "       | Downloading package rte to /root/nltk_data...\n",
            "       |   Package rte is already up-to-date!\n",
            "       | Downloading package sample_grammars to /root/nltk_data...\n",
            "       |   Package sample_grammars is already up-to-date!\n",
            "       | Downloading package semcor to /root/nltk_data...\n",
            "       |   Package semcor is already up-to-date!\n",
            "       | Downloading package senseval to /root/nltk_data...\n",
            "       |   Package senseval is already up-to-date!\n",
            "       | Downloading package sentence_polarity to /root/nltk_data...\n",
            "       |   Package sentence_polarity is already up-to-date!\n",
            "       | Downloading package sentiwordnet to /root/nltk_data...\n",
            "       |   Package sentiwordnet is already up-to-date!\n",
            "       | Downloading package shakespeare to /root/nltk_data...\n",
            "       |   Package shakespeare is already up-to-date!\n",
            "       | Downloading package sinica_treebank to /root/nltk_data...\n",
            "       |   Package sinica_treebank is already up-to-date!\n",
            "       | Downloading package smultron to /root/nltk_data...\n",
            "       |   Package smultron is already up-to-date!\n",
            "       | Downloading package snowball_data to /root/nltk_data...\n",
            "       |   Package snowball_data is already up-to-date!\n",
            "       | Downloading package spanish_grammars to /root/nltk_data...\n",
            "       |   Package spanish_grammars is already up-to-date!\n",
            "       | Downloading package state_union to /root/nltk_data...\n",
            "       |   Package state_union is already up-to-date!\n",
            "       | Downloading package stopwords to /root/nltk_data...\n",
            "       |   Package stopwords is already up-to-date!\n",
            "       | Downloading package subjectivity to /root/nltk_data...\n",
            "       |   Package subjectivity is already up-to-date!\n",
            "       | Downloading package swadesh to /root/nltk_data...\n",
            "       |   Package swadesh is already up-to-date!\n",
            "       | Downloading package switchboard to /root/nltk_data...\n",
            "       |   Package switchboard is already up-to-date!\n",
            "       | Downloading package tagsets to /root/nltk_data...\n",
            "       |   Package tagsets is already up-to-date!\n",
            "       | Downloading package timit to /root/nltk_data...\n",
            "       |   Package timit is already up-to-date!\n",
            "       | Downloading package toolbox to /root/nltk_data...\n",
            "       |   Package toolbox is already up-to-date!\n",
            "       | Downloading package treebank to /root/nltk_data...\n",
            "       |   Package treebank is already up-to-date!\n",
            "       | Downloading package twitter_samples to /root/nltk_data...\n",
            "       |   Package twitter_samples is already up-to-date!\n",
            "       | Downloading package udhr to /root/nltk_data...\n",
            "       |   Package udhr is already up-to-date!\n",
            "       | Downloading package udhr2 to /root/nltk_data...\n",
            "       |   Package udhr2 is already up-to-date!\n",
            "       | Downloading package unicode_samples to /root/nltk_data...\n",
            "       |   Package unicode_samples is already up-to-date!\n",
            "       | Downloading package universal_tagset to /root/nltk_data...\n",
            "       |   Package universal_tagset is already up-to-date!\n",
            "       | Downloading package universal_treebanks_v20 to\n",
            "       |     /root/nltk_data...\n",
            "       |   Package universal_treebanks_v20 is already up-to-date!\n",
            "       | Downloading package vader_lexicon to /root/nltk_data...\n",
            "       |   Package vader_lexicon is already up-to-date!\n",
            "       | Downloading package verbnet to /root/nltk_data...\n",
            "       |   Package verbnet is already up-to-date!\n",
            "       | Downloading package verbnet3 to /root/nltk_data...\n",
            "       |   Package verbnet3 is already up-to-date!\n",
            "       | Downloading package webtext to /root/nltk_data...\n",
            "       |   Package webtext is already up-to-date!\n",
            "       | Downloading package wmt15_eval to /root/nltk_data...\n",
            "       |   Package wmt15_eval is already up-to-date!\n",
            "       | Downloading package word2vec_sample to /root/nltk_data...\n",
            "       |   Package word2vec_sample is already up-to-date!\n",
            "       | Downloading package wordnet to /root/nltk_data...\n",
            "       |   Package wordnet is already up-to-date!\n",
            "       | Downloading package wordnet2021 to /root/nltk_data...\n",
            "       |   Package wordnet2021 is already up-to-date!\n",
            "       | Downloading package wordnet2022 to /root/nltk_data...\n",
            "       |   Package wordnet2022 is already up-to-date!\n",
            "       | Downloading package wordnet31 to /root/nltk_data...\n",
            "       |   Package wordnet31 is already up-to-date!\n",
            "       | Downloading package wordnet_ic to /root/nltk_data...\n",
            "       |   Package wordnet_ic is already up-to-date!\n",
            "       | Downloading package words to /root/nltk_data...\n",
            "       |   Package words is already up-to-date!\n",
            "       | Downloading package ycoe to /root/nltk_data...\n",
            "       |   Package ycoe is already up-to-date!\n",
            "       | \n",
            "     Done downloading collection all\n"
          ]
        },
        {
          "name": "stdout",
          "output_type": "stream",
          "text": [
            "\n",
            "---------------------------------------------------------------------------\n",
            "    d) Download   l) List    u) Update   c) Config   h) Help   q) Quit\n",
            "---------------------------------------------------------------------------\n",
            "Downloader> d\n",
            "\n",
            "Download which package (l=list; x=cancel)?\n",
            "  Identifier> punkt\n"
          ]
        },
        {
          "output_type": "stream",
          "name": "stderr",
          "text": [
            "    Downloading package punkt to /root/nltk_data...\n",
            "      Package punkt is already up-to-date!\n"
          ]
        },
        {
          "name": "stdout",
          "output_type": "stream",
          "text": [
            "\n",
            "---------------------------------------------------------------------------\n",
            "    d) Download   l) List    u) Update   c) Config   h) Help   q) Quit\n",
            "---------------------------------------------------------------------------\n",
            "Downloader> q\n"
          ]
        },
        {
          "output_type": "execute_result",
          "data": {
            "text/plain": [
              "True"
            ]
          },
          "metadata": {},
          "execution_count": 4
        }
      ]
    },
    {
      "cell_type": "markdown",
      "source": [
        "# **Exercise 3**\n",
        "Installing scikit-learn"
      ],
      "metadata": {
        "id": "Z8N-GIvAHceN"
      }
    },
    {
      "cell_type": "code",
      "source": [
        "!pip install scikit-learn"
      ],
      "metadata": {
        "colab": {
          "base_uri": "https://localhost:8080/"
        },
        "id": "_XhTjMOWH_S3",
        "outputId": "7adcc295-d7bf-4b7d-9485-69dcae5706ad"
      },
      "execution_count": null,
      "outputs": [
        {
          "output_type": "stream",
          "name": "stdout",
          "text": [
            "Requirement already satisfied: scikit-learn in /usr/local/lib/python3.10/dist-packages (1.2.2)\n",
            "Requirement already satisfied: numpy>=1.17.3 in /usr/local/lib/python3.10/dist-packages (from scikit-learn) (1.25.2)\n",
            "Requirement already satisfied: scipy>=1.3.2 in /usr/local/lib/python3.10/dist-packages (from scikit-learn) (1.11.4)\n",
            "Requirement already satisfied: joblib>=1.1.1 in /usr/local/lib/python3.10/dist-packages (from scikit-learn) (1.4.2)\n",
            "Requirement already satisfied: threadpoolctl>=2.0.0 in /usr/local/lib/python3.10/dist-packages (from scikit-learn) (3.5.0)\n"
          ]
        }
      ]
    },
    {
      "cell_type": "markdown",
      "source": [
        "# **Exercise 4**\n",
        "In this part well start with some simple steps to preprocess the data. Using the following script to initialise the work"
      ],
      "metadata": {
        "id": "fjeyfk67CqUr"
      }
    },
    {
      "cell_type": "code",
      "source": [
        "import nltk\n",
        "nltk.download('punkt')\n",
        "nltk.download('stopwords')\n",
        "nltk.download('wordnet')\n",
        "\n",
        "from nltk.corpus import stopwords\n",
        "from nltk.tokenize import word_tokenize\n",
        "import string\n",
        "\n",
        "#%% Sample text\n",
        "text = \"\"\"Naruto Uzumaki is the main character of the\n",
        "Japanese manga and anime series Naruto, created by Masashi Kishimoto.\n",
        "He is a young ninja with a dream of becoming the strongest ninja and\n",
        "the leader of his village, known as the Hokage. Naruto is energetic,\n",
        "determined, and known for his signature move, the Shadow Clone Jutsu.\n",
        "He carries the spirit of the Nine-Tails Fox within him, which gives him\n",
        "immense power but also makes him a target for enemies. Throughout the series,\n",
        "Naruto's journey focuses on his growth, friendships, and battles against formidable foes,\n",
        "ultimately striving to bring peace to the ninja world.\"\"\"\n",
        "\n",
        "print(\"Orginal Text: \")\n",
        "print(text)"
      ],
      "metadata": {
        "colab": {
          "base_uri": "https://localhost:8080/"
        },
        "id": "-OuW5wISBy4T",
        "outputId": "b5bbbc02-7e2c-4e15-acea-8bf2239a543e"
      },
      "execution_count": null,
      "outputs": [
        {
          "output_type": "stream",
          "name": "stdout",
          "text": [
            "Orginal Text: \n",
            "Naruto Uzumaki is the main character of the \n",
            "Japanese manga and anime series Naruto, created by Masashi Kishimoto.\n",
            "He is a young ninja with a dream of becoming the strongest ninja and\n",
            "the leader of his village, known as the Hokage. Naruto is energetic,\n",
            "determined, and known for his signature move, the Shadow Clone Jutsu.\n",
            "He carries the spirit of the Nine-Tails Fox within him, which gives him\n",
            "immense power but also makes him a target for enemies. Throughout the series,\n",
            "Naruto's journey focuses on his growth, friendships, and battles against formidable foes,\n",
            "ultimately striving to bring peace to the ninja world.\n"
          ]
        },
        {
          "output_type": "stream",
          "name": "stderr",
          "text": [
            "[nltk_data] Downloading package punkt to /root/nltk_data...\n",
            "[nltk_data]   Package punkt is already up-to-date!\n",
            "[nltk_data] Downloading package stopwords to /root/nltk_data...\n",
            "[nltk_data]   Package stopwords is already up-to-date!\n",
            "[nltk_data] Downloading package wordnet to /root/nltk_data...\n",
            "[nltk_data]   Package wordnet is already up-to-date!\n"
          ]
        }
      ]
    },
    {
      "cell_type": "markdown",
      "source": [
        "# **Exercise 5**\n",
        "\n",
        "Let's convert the text to lower case, to do use the .lower command."
      ],
      "metadata": {
        "id": "8uvkxBx4FEIM"
      }
    },
    {
      "cell_type": "code",
      "source": [
        "# Convert to lowercase\n",
        "text = text.lower()\n",
        "\n",
        "print(\"Lower case Text: \")\n",
        "print (text)"
      ],
      "metadata": {
        "colab": {
          "base_uri": "https://localhost:8080/"
        },
        "id": "0LY8Q5_DD7ed",
        "outputId": "4775a37b-3fbd-4369-8976-61c2383669eb"
      },
      "execution_count": null,
      "outputs": [
        {
          "output_type": "stream",
          "name": "stdout",
          "text": [
            "Lower case Text: \n",
            "naruto uzumaki is the main character of the \n",
            "japanese manga and anime series naruto, created by masashi kishimoto.\n",
            "he is a young ninja with a dream of becoming the strongest ninja and\n",
            "the leader of his village, known as the hokage. naruto is energetic,\n",
            "determined, and known for his signature move, the shadow clone jutsu.\n",
            "he carries the spirit of the nine-tails fox within him, which gives him\n",
            "immense power but also makes him a target for enemies. throughout the series,\n",
            "naruto's journey focuses on his growth, friendships, and battles against formidable foes,\n",
            "ultimately striving to bring peace to the ninja world.\n"
          ]
        }
      ]
    },
    {
      "cell_type": "markdown",
      "source": [
        "# **Exercise 6**\n",
        "\n",
        "Let's remove any punctuation."
      ],
      "metadata": {
        "id": "wQTSbwLkFOw9"
      }
    },
    {
      "cell_type": "code",
      "source": [
        "# Remove punctuation\n",
        "text = text.translate(str.maketrans('', '', string.punctuation))\n",
        "print(\"Removed punctuation: \")\n",
        "print(text)"
      ],
      "metadata": {
        "colab": {
          "base_uri": "https://localhost:8080/"
        },
        "id": "1twiQ6E3EI3s",
        "outputId": "0fb11b84-4aef-4e50-e820-4466020815c1"
      },
      "execution_count": null,
      "outputs": [
        {
          "output_type": "stream",
          "name": "stdout",
          "text": [
            "Removed punctuation: \n",
            "naruto uzumaki is the main character of the \n",
            "japanese manga and anime series naruto created by masashi kishimoto\n",
            "he is a young ninja with a dream of becoming the strongest ninja and\n",
            "the leader of his village known as the hokage naruto is energetic\n",
            "determined and known for his signature move the shadow clone jutsu\n",
            "he carries the spirit of the ninetails fox within him which gives him\n",
            "immense power but also makes him a target for enemies throughout the series\n",
            "narutos journey focuses on his growth friendships and battles against formidable foes\n",
            "ultimately striving to bring peace to the ninja world\n"
          ]
        }
      ]
    },
    {
      "cell_type": "markdown",
      "source": [
        "# **Exercise 7**\n",
        "Next setop is to tokenize the sentence. To do so will use the word_tokenize tool"
      ],
      "metadata": {
        "id": "S0Ot09OPFq_V"
      }
    },
    {
      "cell_type": "code",
      "source": [
        "# Tokenization\n",
        "tokens = word_tokenize(text)\n",
        "print(\"All tokens: \")\n",
        "\n",
        "print(tokens)"
      ],
      "metadata": {
        "colab": {
          "base_uri": "https://localhost:8080/"
        },
        "id": "3ECBGWInFoFm",
        "outputId": "9f242ed2-9c7c-47da-9db7-0a9635f6f20a"
      },
      "execution_count": null,
      "outputs": [
        {
          "output_type": "stream",
          "name": "stdout",
          "text": [
            "All tokens: \n",
            "['naruto', 'uzumaki', 'is', 'the', 'main', 'character', 'of', 'the', 'japanese', 'manga', 'and', 'anime', 'series', 'naruto', 'created', 'by', 'masashi', 'kishimoto', 'he', 'is', 'a', 'young', 'ninja', 'with', 'a', 'dream', 'of', 'becoming', 'the', 'strongest', 'ninja', 'and', 'the', 'leader', 'of', 'his', 'village', 'known', 'as', 'the', 'hokage', 'naruto', 'is', 'energetic', 'determined', 'and', 'known', 'for', 'his', 'signature', 'move', 'the', 'shadow', 'clone', 'jutsu', 'he', 'carries', 'the', 'spirit', 'of', 'the', 'ninetails', 'fox', 'within', 'him', 'which', 'gives', 'him', 'immense', 'power', 'but', 'also', 'makes', 'him', 'a', 'target', 'for', 'enemies', 'throughout', 'the', 'series', 'narutos', 'journey', 'focuses', 'on', 'his', 'growth', 'friendships', 'and', 'battles', 'against', 'formidable', 'foes', 'ultimately', 'striving', 'to', 'bring', 'peace', 'to', 'the', 'ninja', 'world']\n"
          ]
        }
      ]
    },
    {
      "cell_type": "markdown",
      "source": [
        "# **Exercise 8**\n",
        "Remove any stop words"
      ],
      "metadata": {
        "id": "Bq7m1UBKF_eN"
      }
    },
    {
      "cell_type": "code",
      "source": [
        "# Removing stopwords\n",
        "stop_words = set(stopwords.words('english'))\n",
        "filtered_tokens = [word for word in tokens if word not in stop_words]\n",
        "\n",
        "print(\"\\nAfter Text Preprocessing: \")\n",
        "print(filtered_tokens)"
      ],
      "metadata": {
        "colab": {
          "base_uri": "https://localhost:8080/"
        },
        "id": "XAkWDAcZF8hl",
        "outputId": "f14315e5-716f-4573-be9d-45815ed49bb4"
      },
      "execution_count": null,
      "outputs": [
        {
          "output_type": "stream",
          "name": "stdout",
          "text": [
            "\n",
            "After Text Preprocessing: \n",
            "['naruto', 'uzumaki', 'main', 'character', 'japanese', 'manga', 'anime', 'series', 'naruto', 'created', 'masashi', 'kishimoto', 'young', 'ninja', 'dream', 'becoming', 'strongest', 'ninja', 'leader', 'village', 'known', 'hokage', 'naruto', 'energetic', 'determined', 'known', 'signature', 'move', 'shadow', 'clone', 'jutsu', 'carries', 'spirit', 'ninetails', 'fox', 'within', 'gives', 'immense', 'power', 'also', 'makes', 'target', 'enemies', 'throughout', 'series', 'narutos', 'journey', 'focuses', 'growth', 'friendships', 'battles', 'formidable', 'foes', 'ultimately', 'striving', 'bring', 'peace', 'ninja', 'world']\n"
          ]
        }
      ]
    },
    {
      "cell_type": "markdown",
      "source": [
        "# **Exercise 9**\n",
        "Now completing pre-processing steps try 3 different sentences and repeat exercise 5 and 9"
      ],
      "metadata": {
        "id": "MOjLrEuaGiTk"
      }
    },
    {
      "cell_type": "code",
      "source": [
        "# Define three different sentences\n",
        "sentences = [\n",
        "    \"The quick brown fox jumps over the lazy dog.\",\n",
        "    \"Artificial Intelligence is transforming the world.\",\n",
        "    \"Python is a versatile programming language.\"\n",
        "]\n",
        "def preprocess_sentence(sentence):\n",
        "    # Exercise 5: Tokenization\n",
        "    tokens = word_tokenize(sentence.lower())\n",
        "    print(\"\\nOriginal Tokens: \", tokens)\n",
        "\n",
        "    # Exercise 9: Removing non-alphabetic characters and stopwords\n",
        "    tokens = [word for word in tokens if word.isalpha()]\n",
        "    tokens = [word for word in tokens if word not in stop_words]\n",
        "    return tokens\n",
        "\n",
        "# Preprocess each sentence and print the results\n",
        "for i, sentence in enumerate(sentences, 1):\n",
        "    print(f\"\\nSentence {i}: {sentence}\")\n",
        "    preprocessed_tokens = preprocess_sentence(sentence)\n",
        "    print(\"After Preprocessing: \", preprocessed_tokens)"
      ],
      "metadata": {
        "colab": {
          "base_uri": "https://localhost:8080/"
        },
        "id": "5oiM8YOCGW5W",
        "outputId": "b86d9ab2-1835-4098-8e94-2b347e92189b"
      },
      "execution_count": null,
      "outputs": [
        {
          "output_type": "stream",
          "name": "stdout",
          "text": [
            "\n",
            "Sentence 1: The quick brown fox jumps over the lazy dog.\n",
            "\n",
            "Original Tokens:  ['the', 'quick', 'brown', 'fox', 'jumps', 'over', 'the', 'lazy', 'dog', '.']\n",
            "After Preprocessing:  ['quick', 'brown', 'fox', 'jumps', 'lazy', 'dog']\n",
            "\n",
            "Sentence 2: Artificial Intelligence is transforming the world.\n",
            "\n",
            "Original Tokens:  ['artificial', 'intelligence', 'is', 'transforming', 'the', 'world', '.']\n",
            "After Preprocessing:  ['artificial', 'intelligence', 'transforming', 'world']\n",
            "\n",
            "Sentence 3: Python is a versatile programming language.\n",
            "\n",
            "Original Tokens:  ['python', 'is', 'a', 'versatile', 'programming', 'language', '.']\n",
            "After Preprocessing:  ['python', 'versatile', 'programming', 'language']\n"
          ]
        }
      ]
    },
    {
      "cell_type": "markdown",
      "source": [
        "# **Exercise 10**\n",
        "Create a text file  with a paragraph about any topic you prefer then read a text file using python."
      ],
      "metadata": {
        "id": "ORd613WVJj-G"
      }
    },
    {
      "cell_type": "code",
      "source": [
        "paragraph = \"\"\"Artificial Intelligence (AI) refers to the simulation of human intelligence\n",
        "in machines that are programmed to think and learn like humans. AI is a broad field that\n",
        "encompasses various subfields including machine learning, natural language processing,\n",
        "and robotics. The potential applications of AI are vast and include areas such as healthcare,\n",
        "finance, education, and transportation. As AI technology continues to advance, it is expected\n",
        "to bring significant changes to society, both positive and negative. It is important to consider\n",
        "the ethical implications and ensure that AI is developed and used responsibly.\"\"\"\n",
        "\n",
        "# Write the paragraph to a text file\n",
        "with open('paragraph.txt', 'w') as file:\n",
        "    file.write(paragraph)\n",
        "\n",
        "# Read the text file using Python\n",
        "with open('paragraph.txt', 'r') as file:\n",
        "    text = file.read()\n",
        "\n",
        "print(\"Text read from the file:\")\n",
        "print(text)\n"
      ],
      "metadata": {
        "colab": {
          "base_uri": "https://localhost:8080/"
        },
        "id": "lyXnZsHQJpWv",
        "outputId": "1d4ad6b3-ff1b-4d66-87e0-7619ac66c1b5"
      },
      "execution_count": null,
      "outputs": [
        {
          "output_type": "stream",
          "name": "stdout",
          "text": [
            "Text read from the file:\n",
            "Artificial Intelligence (AI) refers to the simulation of human intelligence \n",
            "in machines that are programmed to think and learn like humans. AI is a broad field that \n",
            "encompasses various subfields including machine learning, natural language processing, \n",
            "and robotics. The potential applications of AI are vast and include areas such as healthcare, \n",
            "finance, education, and transportation. As AI technology continues to advance, it is expected \n",
            "to bring significant changes to society, both positive and negative. It is important to consider \n",
            "the ethical implications and ensure that AI is developed and used responsibly.\n"
          ]
        }
      ]
    },
    {
      "cell_type": "markdown",
      "source": [
        "# **Exercise 11**\n",
        "Apply the preprocessing step on the text you read from the file."
      ],
      "metadata": {
        "id": "aBgGeWfyJvUH"
      }
    },
    {
      "cell_type": "code",
      "source": [
        "# Function to preprocess the text\n",
        "def preprocess_text(text):\n",
        "    # Exercise 5: Tokenization\n",
        "    tokens = word_tokenize(text.lower())\n",
        "    print(\"\\nOriginal Tokens: \", tokens)\n",
        "\n",
        "    # Exercise 9: Removing non-alphabetic characters and stopwords\n",
        "    tokens = [word for word in tokens if word.isalpha()]\n",
        "    tokens = [word for word in tokens if word not in stop_words]\n",
        "    return tokens\n",
        "\n",
        "# Apply the preprocessing step on the text read from the file\n",
        "preprocessed_tokens = preprocess_text(text)\n",
        "print(\"After Preprocessing: \", preprocessed_tokens)\n"
      ],
      "metadata": {
        "colab": {
          "base_uri": "https://localhost:8080/"
        },
        "id": "35Qj62ajJy2H",
        "outputId": "02cb713f-7eb9-4790-9a9f-6fde5ed89110"
      },
      "execution_count": null,
      "outputs": [
        {
          "output_type": "stream",
          "name": "stdout",
          "text": [
            "\n",
            "Original Tokens:  ['artificial', 'intelligence', '(', 'ai', ')', 'refers', 'to', 'the', 'simulation', 'of', 'human', 'intelligence', 'in', 'machines', 'that', 'are', 'programmed', 'to', 'think', 'and', 'learn', 'like', 'humans', '.', 'ai', 'is', 'a', 'broad', 'field', 'that', 'encompasses', 'various', 'subfields', 'including', 'machine', 'learning', ',', 'natural', 'language', 'processing', ',', 'and', 'robotics', '.', 'the', 'potential', 'applications', 'of', 'ai', 'are', 'vast', 'and', 'include', 'areas', 'such', 'as', 'healthcare', ',', 'finance', ',', 'education', ',', 'and', 'transportation', '.', 'as', 'ai', 'technology', 'continues', 'to', 'advance', ',', 'it', 'is', 'expected', 'to', 'bring', 'significant', 'changes', 'to', 'society', ',', 'both', 'positive', 'and', 'negative', '.', 'it', 'is', 'important', 'to', 'consider', 'the', 'ethical', 'implications', 'and', 'ensure', 'that', 'ai', 'is', 'developed', 'and', 'used', 'responsibly', '.']\n",
            "After Preprocessing:  ['artificial', 'intelligence', 'ai', 'refers', 'simulation', 'human', 'intelligence', 'machines', 'programmed', 'think', 'learn', 'like', 'humans', 'ai', 'broad', 'field', 'encompasses', 'various', 'subfields', 'including', 'machine', 'learning', 'natural', 'language', 'processing', 'robotics', 'potential', 'applications', 'ai', 'vast', 'include', 'areas', 'healthcare', 'finance', 'education', 'transportation', 'ai', 'technology', 'continues', 'advance', 'expected', 'bring', 'significant', 'changes', 'society', 'positive', 'negative', 'important', 'consider', 'ethical', 'implications', 'ensure', 'ai', 'developed', 'used', 'responsibly']\n"
          ]
        }
      ]
    },
    {
      "cell_type": "markdown",
      "source": [
        "# **Exercise 12**\n",
        "\n",
        "Now let's try the Lemmatizer of text suing the nltk library"
      ],
      "metadata": {
        "id": "3TFU1e-6KDaw"
      }
    },
    {
      "cell_type": "code",
      "source": [
        "from nltk.stem import WordNetLemmatizer\n",
        "\n",
        "lemmatizer = WordNetLemmatizer()\n",
        "\n",
        "words = ['cats', 'cacti', 'geese', 'rocks', 'python', 'better']\n",
        "for word in words:\n",
        "  print(f\"Word: {word}, Lemma: {lemmatizer.lemmatize(word)}\")"
      ],
      "metadata": {
        "colab": {
          "base_uri": "https://localhost:8080/"
        },
        "id": "iSEX7G_qKLse",
        "outputId": "d77b20a2-f6ae-48c3-dffa-1a7bd6693bb7"
      },
      "execution_count": null,
      "outputs": [
        {
          "output_type": "stream",
          "name": "stdout",
          "text": [
            "Word: cats, Lemma: cat\n",
            "Word: cacti, Lemma: cactus\n",
            "Word: geese, Lemma: goose\n",
            "Word: rocks, Lemma: rock\n",
            "Word: python, Lemma: python\n",
            "Word: better, Lemma: better\n"
          ]
        }
      ]
    },
    {
      "cell_type": "markdown",
      "source": [
        "# **Exercise 13**\n",
        "Now apply the Lemmatizer to the text file that is opened in exercise 10"
      ],
      "metadata": {
        "id": "fHzbCxfQKrhf"
      }
    },
    {
      "cell_type": "code",
      "source": [
        "# Importing necessary libraries\n",
        "import nltk\n",
        "from nltk.tokenize import word_tokenize\n",
        "from nltk.corpus import stopwords\n",
        "from nltk.stem import WordNetLemmatizer\n",
        "\n",
        "# Ensure required NLTK resources are available\n",
        "nltk.download('punkt')\n",
        "nltk.download('stopwords')\n",
        "nltk.download('wordnet')\n",
        "\n",
        "# Define the paragraph\n",
        "paragraph = \"\"\"Artificial Intelligence (AI) refers to the simulation of human intelligence\n",
        "in machines that are programmed to think and learn like humans. AI is a broad field that\n",
        "encompasses various subfields including machine learning, natural language processing,\n",
        "and robotics. The potential applications of AI are vast and include areas such as healthcare,\n",
        "finance, education, and transportation. As AI technology continues to advance, it is expected\n",
        "to bring significant changes to society, both positive and negative. It is important to consider\n",
        "the ethical implications and ensure that AI is developed and used responsibly.\"\"\"\n",
        "\n",
        "# Write the paragraph to a text file\n",
        "with open('paragraph.txt', 'w') as file:\n",
        "    file.write(paragraph)\n",
        "\n",
        "# Read the text file using Python\n",
        "with open('paragraph.txt', 'r') as file:\n",
        "    text = file.read()\n",
        "\n",
        "print(\"Text read from the file:\")\n",
        "print(text)\n",
        "\n",
        "# Function to preprocess the text and apply lemmatization\n",
        "def preprocess_text(text):\n",
        "    # Tokenization\n",
        "    tokens = word_tokenize(text.lower())\n",
        "    print(\"\\nOriginal Tokens: \", tokens)\n",
        "\n",
        "    # Remove non-alphabetic characters and stopwords\n",
        "    stop_words = set(stopwords.words('english'))\n",
        "    tokens = [word for word in tokens if word.isalpha()]\n",
        "    tokens = [word for word in tokens if word not in stop_words]\n",
        "\n",
        "    # Lemmatization\n",
        "    lemmatizer = WordNetLemmatizer()\n",
        "    lemmatized_tokens = [lemmatizer.lemmatize(token) for token in tokens]\n",
        "    return lemmatized_tokens\n",
        "\n",
        "# Apply preprocessing and lemmatization to the text read from the file\n",
        "preprocessed_tokens = preprocess_text(text)\n",
        "print(\"After Preprocessing and Lemmatization: \", preprocessed_tokens)\n"
      ],
      "metadata": {
        "colab": {
          "base_uri": "https://localhost:8080/"
        },
        "id": "uPBjGCJdL15v",
        "outputId": "8a1ca066-b4c4-4973-eb58-b3fe68ca6be7"
      },
      "execution_count": null,
      "outputs": [
        {
          "output_type": "stream",
          "name": "stdout",
          "text": [
            "Text read from the file:\n",
            "Artificial Intelligence (AI) refers to the simulation of human intelligence \n",
            "in machines that are programmed to think and learn like humans. AI is a broad field that \n",
            "encompasses various subfields including machine learning, natural language processing, \n",
            "and robotics. The potential applications of AI are vast and include areas such as healthcare, \n",
            "finance, education, and transportation. As AI technology continues to advance, it is expected \n",
            "to bring significant changes to society, both positive and negative. It is important to consider \n",
            "the ethical implications and ensure that AI is developed and used responsibly.\n",
            "\n",
            "Original Tokens:  ['artificial', 'intelligence', '(', 'ai', ')', 'refers', 'to', 'the', 'simulation', 'of', 'human', 'intelligence', 'in', 'machines', 'that', 'are', 'programmed', 'to', 'think', 'and', 'learn', 'like', 'humans', '.', 'ai', 'is', 'a', 'broad', 'field', 'that', 'encompasses', 'various', 'subfields', 'including', 'machine', 'learning', ',', 'natural', 'language', 'processing', ',', 'and', 'robotics', '.', 'the', 'potential', 'applications', 'of', 'ai', 'are', 'vast', 'and', 'include', 'areas', 'such', 'as', 'healthcare', ',', 'finance', ',', 'education', ',', 'and', 'transportation', '.', 'as', 'ai', 'technology', 'continues', 'to', 'advance', ',', 'it', 'is', 'expected', 'to', 'bring', 'significant', 'changes', 'to', 'society', ',', 'both', 'positive', 'and', 'negative', '.', 'it', 'is', 'important', 'to', 'consider', 'the', 'ethical', 'implications', 'and', 'ensure', 'that', 'ai', 'is', 'developed', 'and', 'used', 'responsibly', '.']\n",
            "After Preprocessing and Lemmatization:  ['artificial', 'intelligence', 'ai', 'refers', 'simulation', 'human', 'intelligence', 'machine', 'programmed', 'think', 'learn', 'like', 'human', 'ai', 'broad', 'field', 'encompasses', 'various', 'subfields', 'including', 'machine', 'learning', 'natural', 'language', 'processing', 'robotics', 'potential', 'application', 'ai', 'vast', 'include', 'area', 'healthcare', 'finance', 'education', 'transportation', 'ai', 'technology', 'continues', 'advance', 'expected', 'bring', 'significant', 'change', 'society', 'positive', 'negative', 'important', 'consider', 'ethical', 'implication', 'ensure', 'ai', 'developed', 'used', 'responsibly']\n"
          ]
        },
        {
          "output_type": "stream",
          "name": "stderr",
          "text": [
            "[nltk_data] Downloading package punkt to /root/nltk_data...\n",
            "[nltk_data]   Package punkt is already up-to-date!\n",
            "[nltk_data] Downloading package stopwords to /root/nltk_data...\n",
            "[nltk_data]   Package stopwords is already up-to-date!\n",
            "[nltk_data] Downloading package wordnet to /root/nltk_data...\n",
            "[nltk_data]   Package wordnet is already up-to-date!\n"
          ]
        }
      ]
    },
    {
      "cell_type": "markdown",
      "source": [
        "# **Exercise 14**\n",
        "\n",
        "Let's try the segment a sentence"
      ],
      "metadata": {
        "id": "GrWk8juDNMrZ"
      }
    },
    {
      "cell_type": "code",
      "source": [
        "from nltk import sent_tokenize\n",
        "\n",
        "text = \"\"\"Hello! This is an example of sentene segmentation.\n",
        "It demonistrates how sentence segmentation words using NLTK.\n",
        "Hope you find its helpful.\"\"\"\n",
        "\n",
        "sentences = sent_tokenize(text)\n",
        "for sentence in sentences:\n",
        "  print(sentence)"
      ],
      "metadata": {
        "colab": {
          "base_uri": "https://localhost:8080/"
        },
        "id": "3EdZDugNKogA",
        "outputId": "3550fc52-c2f7-4dc0-82ac-46dc51852c1b"
      },
      "execution_count": null,
      "outputs": [
        {
          "output_type": "stream",
          "name": "stdout",
          "text": [
            "Hello!\n",
            "This is an example of sentene segmentation.\n",
            "It demonistrates how sentence segmentation words using NLTK.\n",
            "Hope you find its helpful.\n"
          ]
        }
      ]
    },
    {
      "cell_type": "markdown",
      "source": [
        "# **Exercise 15**\n",
        "Using the previous examples develop a text summarisation script that would read\n",
        "a text file and summarise it into 3 sentences.\n",
        "The steps to do so are:\n",
        "\n",
        "A. Tokenize the sentences and words in the text.\n",
        "\n",
        "B. Removes any stopwords from the text.\n",
        "\n",
        "C. Calculates the frequencies of each word, excluding the stopwords.\n",
        "\n",
        "D. Calculates the score for each sentence based on the frequencies of the words\n",
        "it contains, considering only sentences with less than 30 words.\n",
        "\n",
        "E. Selects the top 2 sentences with the highest scores to generate a summary.\n",
        "\n",
        "F. Combines these top sentences to create the final summary.\n"
      ],
      "metadata": {
        "id": "dZSa0QXDNhdo"
      }
    },
    {
      "cell_type": "code",
      "source": [
        "import nltk\n",
        "from nltk.corpus import stopwords\n",
        "from nltk.tokenize import sent_tokenize, word_tokenize\n",
        "from collections import defaultdict\n",
        "import string\n",
        "\n",
        "# Download required nltk data\n",
        "nltk.download('punkt')\n",
        "nltk.download('stopwords')\n",
        "\n",
        "def read_text_file(file_path):\n",
        "    with open(file_path, 'r') as file:\n",
        "        return file.read()\n",
        "\n",
        "def preprocess_text(text):\n",
        "    # Tokenize the text into sentences\n",
        "    sentences = sent_tokenize(text)\n",
        "\n",
        "    # Tokenize the text into words\n",
        "    words = word_tokenize(text.lower())\n",
        "\n",
        "    # Remove stop words and punctuation\n",
        "    stop_words = set(stopwords.words('english'))\n",
        "    words = [word for word in words if word not in stop_words and word not in string.punctuation]\n",
        "\n",
        "    return sentences, words\n",
        "\n",
        "def rank_sentences(sentences, word_freq):\n",
        "    sentence_rank = defaultdict(int)\n",
        "\n",
        "    for i, sentence in enumerate(sentences):\n",
        "        for word in word_tokenize(sentence.lower()):\n",
        "            if word in word_freq:\n",
        "                sentence_rank[i] += word_freq[word]\n",
        "\n",
        "    return sentence_rank\n",
        "\n",
        "def summarize_text(sentences, sentence_rank, num_sentences=3):\n",
        "    ranked_sentences = sorted(sentence_rank, key=sentence_rank.get, reverse=True)\n",
        "    summary = [sentences[i] for i in ranked_sentences[:num_sentences]]\n",
        "    return ' '.join(summary)\n",
        "\n",
        "def summarize_file(file_path):\n",
        "    text = read_text_file(file_path)\n",
        "    sentences, words = preprocess_text(text)\n",
        "\n",
        "    # Calculate word frequencies\n",
        "    word_freq = defaultdict(int)\n",
        "    for word in words:\n",
        "        word_freq[word] += 1\n",
        "\n",
        "    # Rank sentences based on word frequencies\n",
        "    sentence_rank = rank_sentences(sentences, word_freq)\n",
        "\n",
        "    # Generate summary\n",
        "    summary = summarize_text(sentences, sentence_rank)\n",
        "    return summary\n",
        "\n",
        "if __name__ == \"__main__\":\n",
        "    file_path = '/content/computer.txt'  # Replace with your text file path\n",
        "    summary = summarize_file(file_path)\n",
        "    print(summary)\n"
      ],
      "metadata": {
        "colab": {
          "base_uri": "https://localhost:8080/"
        },
        "id": "Or9nT0SbQqBC",
        "outputId": "f6f71214-5e90-40d5-dec4-5cd9b5e8c985"
      },
      "execution_count": null,
      "outputs": [
        {
          "output_type": "stream",
          "name": "stdout",
          "text": [
            "Computers can perform a wide variety of tasks, ranging from basic arithmetic operations to complex simulations and data processing. A computer is an electronic device that processes data according to a set of instructions called a program.\n"
          ]
        },
        {
          "output_type": "stream",
          "name": "stderr",
          "text": [
            "[nltk_data] Downloading package punkt to /root/nltk_data...\n",
            "[nltk_data]   Package punkt is already up-to-date!\n",
            "[nltk_data] Downloading package stopwords to /root/nltk_data...\n",
            "[nltk_data]   Package stopwords is already up-to-date!\n"
          ]
        }
      ]
    },
    {
      "cell_type": "code",
      "source": [],
      "metadata": {
        "id": "aX0pb9kKQqY5"
      },
      "execution_count": null,
      "outputs": []
    }
  ]
}