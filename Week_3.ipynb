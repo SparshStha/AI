{
  "nbformat": 4,
  "nbformat_minor": 0,
  "metadata": {
    "colab": {
      "provenance": []
    },
    "kernelspec": {
      "name": "python3",
      "display_name": "Python 3"
    },
    "language_info": {
      "name": "python"
    }
  },
  "cells": [
    {
      "cell_type": "markdown",
      "source": [
        "# **Exercise 1**"
      ],
      "metadata": {
        "id": "lGgy-o531Z_Y"
      }
    },
    {
      "cell_type": "markdown",
      "source": [
        "Starting with a simple problem that can be represented using the following graph\n",
        "\n",
        "![image.png](data:image/png;base64,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)"
      ],
      "metadata": {
        "id": "iCLMN6rLI3oX"
      }
    },
    {
      "cell_type": "markdown",
      "source": [
        "**The script to solve this simple problem using the BFS algorithm ca be found bellow:**"
      ],
      "metadata": {
        "id": "fts04oobLEIW"
      }
    },
    {
      "cell_type": "code",
      "execution_count": null,
      "metadata": {
        "id": "wdU9Dbn0HbiZ"
      },
      "outputs": [],
      "source": [
        "from collections import deque\n",
        "def bfs(graph, start, goal):\n",
        "    visited = set()\n",
        "    queue = deque([(start, [])])\n",
        "\n",
        "    while queue:\n",
        "        node, path = queue.popleft()\n",
        "        if node == goal:\n",
        "            return path + [node]\n",
        "        if node not in visited:\n",
        "            visited.add(node)\n",
        "            for neighbor in graph[node]:\n",
        "                queue.append((neighbor, path + [node]))\n",
        "\n",
        "    return None  # Goal not found\n",
        "\n",
        "graph = {\n",
        "    'A': ['B', 'C'],\n",
        "    'B': ['A', 'D', 'E'],\n",
        "    'C': ['A', 'F'],\n",
        "    'D': ['B'],\n",
        "    'E': ['B', 'F'],\n",
        "    'F': ['C', 'E']\n",
        "}\n"
      ]
    },
    {
      "cell_type": "code",
      "source": [
        "start_node = \"A\"\n",
        "goal_node = \"E\"\n",
        "result = bfs(graph, start_node, goal_node)\n",
        "if result:\n",
        "  print(\"Path found: \", result)\n",
        "else:\n",
        "  print(\"No path found.\")"
      ],
      "metadata": {
        "colab": {
          "base_uri": "https://localhost:8080/"
        },
        "id": "BPT-dxwDH2HA",
        "outputId": "09269797-014a-4700-f61a-74443571ff98"
      },
      "execution_count": null,
      "outputs": [
        {
          "output_type": "stream",
          "name": "stdout",
          "text": [
            "Path found:  ['A', 'B', 'E']\n"
          ]
        }
      ]
    },
    {
      "cell_type": "markdown",
      "source": [
        "**Change the starting and ending point and observe the problem solution:**"
      ],
      "metadata": {
        "id": "G5FnYgDiIX8P"
      }
    },
    {
      "cell_type": "code",
      "source": [
        "start_node = \"A\"\n",
        "goal_node = \"F\"\n",
        "result = bfs(graph, start_node, goal_node)\n",
        "if result:\n",
        "    print(\"Path found: \", result)\n",
        "else:\n",
        "    print(\"No path found.\")\n"
      ],
      "metadata": {
        "colab": {
          "base_uri": "https://localhost:8080/"
        },
        "id": "_VL7K1-XIhKY",
        "outputId": "4d0b1e07-fca5-43aa-b3da-6a4281dad9ab"
      },
      "execution_count": null,
      "outputs": [
        {
          "output_type": "stream",
          "name": "stdout",
          "text": [
            "Path found:  ['A', 'C', 'F']\n"
          ]
        }
      ]
    },
    {
      "cell_type": "code",
      "source": [
        "start_node = \"D\"\n",
        "goal_node = \"C\"\n",
        "result = bfs(graph, start_node, goal_node)\n",
        "if result:\n",
        "    print(\"Path found: \", result)\n",
        "else:\n",
        "    print(\"No path found.\")\n"
      ],
      "metadata": {
        "colab": {
          "base_uri": "https://localhost:8080/"
        },
        "id": "d-uasp8DIjGm",
        "outputId": "c737d7c9-9ee9-4a8e-d83d-ababa081df73"
      },
      "execution_count": null,
      "outputs": [
        {
          "output_type": "stream",
          "name": "stdout",
          "text": [
            "Path found:  ['D', 'B', 'A', 'C']\n"
          ]
        }
      ]
    },
    {
      "cell_type": "markdown",
      "source": [
        "**Use the time library to calculate how long would it take to solve the problem using three different starting points and ending points:**"
      ],
      "metadata": {
        "id": "zU2BjHgEJq3P"
      }
    },
    {
      "cell_type": "code",
      "source": [
        "def measure_bfs_time(start_node, goal_node):\n",
        "    start_time = time.time()\n",
        "    result = bfs(graph, start_node, goal_node)\n",
        "    end_time = time.time()\n",
        "    elapsed_time = end_time - start_time\n",
        "    return result, elapsed_time\n",
        "\n",
        "# Define the starting and ending points\n",
        "test_cases = [\n",
        "    ('A', 'E'),\n",
        "    ('A', 'F'),\n",
        "    ('D', 'C')\n",
        "]\n",
        "\n",
        "# Measure and print the time for each test case\n",
        "for start_node, goal_node in test_cases:\n",
        "    result, elapsed_time = measure_bfs_time(start_node, goal_node)\n",
        "    if result:\n",
        "        print(f\"Path found from {start_node} to {goal_node}: {result}\")\n",
        "    else:\n",
        "        print(f\"No path found from {start_node} to {goal_node}\")\n",
        "    print(f\"Time taken: {elapsed_time:.6f} seconds\\n\")\n"
      ],
      "metadata": {
        "colab": {
          "base_uri": "https://localhost:8080/"
        },
        "id": "iphBO8aMJb-e",
        "outputId": "878dc57e-5be3-47e0-e2d3-45eb56bebddc"
      },
      "execution_count": null,
      "outputs": [
        {
          "output_type": "stream",
          "name": "stdout",
          "text": [
            "Path found from A to E: ['A', 'B', 'E']\n",
            "Time taken: 0.000015 seconds\n",
            "\n",
            "Path found from A to F: ['A', 'C', 'F']\n",
            "Time taken: 0.000015 seconds\n",
            "\n",
            "Path found from D to C: ['D', 'B', 'A', 'C']\n",
            "Time taken: 0.000016 seconds\n",
            "\n"
          ]
        }
      ]
    },
    {
      "cell_type": "markdown",
      "source": [
        "**Changing the script to mode the following graph:**\n",
        "\n",
        "![image.png](data:image/png;base64,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)"
      ],
      "metadata": {
        "id": "N0ursXLrJ7P_"
      }
    },
    {
      "cell_type": "code",
      "source": [
        "def measure_bfs_time(start_node, goal_node):\n",
        "    start_time = time.time()\n",
        "    result = bfs(graph, start_node, goal_node)\n",
        "    end_time = time.time()\n",
        "    elapsed_time = end_time - start_time\n",
        "    return result, elapsed_time\n",
        "\n",
        "# Define the starting and ending points\n",
        "test_cases = [\n",
        "    ('A', 'G'),\n",
        "    ('C', 'H'),\n",
        "    ('B', 'F')\n",
        "]\n",
        "\n",
        "# Measure and print the time for each test case\n",
        "for start_node, goal_node in test_cases:\n",
        "    result, elapsed_time = measure_bfs_time(start_node, goal_node)\n",
        "    if result:\n",
        "        print(f\"Path found from {start_node} to {goal_node}: {result}\")\n",
        "    else:\n",
        "        print(f\"No path found from {start_node} to {goal_node}\")\n",
        "    print(f\"Time taken: {elapsed_time:.6f} seconds\\n\")\n"
      ],
      "metadata": {
        "colab": {
          "base_uri": "https://localhost:8080/"
        },
        "id": "nLxiKQHXJdHo",
        "outputId": "29b134d7-1c6a-42e6-82a4-fd24afb5d669"
      },
      "execution_count": null,
      "outputs": [
        {
          "output_type": "stream",
          "name": "stdout",
          "text": [
            "Path found from A to G: ['A', 'B', 'D', 'G']\n",
            "Time taken: 0.000023 seconds\n",
            "\n",
            "Path found from C to H: ['C', 'F', 'H']\n",
            "Time taken: 0.000019 seconds\n",
            "\n",
            "Path found from B to F: ['B', 'E', 'F']\n",
            "Time taken: 0.000018 seconds\n",
            "\n"
          ]
        }
      ]
    },
    {
      "cell_type": "markdown",
      "source": [
        "**Updating the script to find the solution of the problem and experiment with different starting points, e.g., start from A and end at H:**"
      ],
      "metadata": {
        "id": "-F3Wz2vyKhvX"
      }
    },
    {
      "cell_type": "code",
      "source": [
        "def measure_bfs_time(start_node, goal_node):\n",
        "    start_time = time.time()\n",
        "    result = bfs(graph, start_node, goal_node)\n",
        "    end_time = time.time()\n",
        "    elapsed_time = end_time - start_time\n",
        "    return result, elapsed_time\n",
        "\n",
        "# Define the starting and ending points\n",
        "test_cases = [\n",
        "    ('A', 'H'),\n",
        "    ('A', 'G'),\n",
        "    ('C', 'H'),\n",
        "    ('B', 'F')\n",
        "]\n",
        "\n",
        "# Measure and print the time for each test case\n",
        "for start_node, goal_node in test_cases:\n",
        "    result, elapsed_time = measure_bfs_time(start_node, goal_node)\n",
        "    if result:\n",
        "        print(f\"Path found from {start_node} to {goal_node}: {result}\")\n",
        "    else:\n",
        "        print(f\"No path found from {start_node} to {goal_node}\")\n",
        "    print(f\"Time taken: {elapsed_time:.6f} seconds\\n\")\n"
      ],
      "metadata": {
        "colab": {
          "base_uri": "https://localhost:8080/"
        },
        "id": "gWxcSUC0Kcon",
        "outputId": "e0378c27-a4b2-401a-f25c-93ecd63bdedc"
      },
      "execution_count": null,
      "outputs": [
        {
          "output_type": "stream",
          "name": "stdout",
          "text": [
            "Path found from A to H: ['A', 'B', 'E', 'H']\n",
            "Time taken: 0.000019 seconds\n",
            "\n",
            "Path found from A to G: ['A', 'B', 'D', 'G']\n",
            "Time taken: 0.000015 seconds\n",
            "\n",
            "Path found from C to H: ['C', 'F', 'H']\n",
            "Time taken: 0.000011 seconds\n",
            "\n",
            "Path found from B to F: ['B', 'E', 'F']\n",
            "Time taken: 0.000012 seconds\n",
            "\n"
          ]
        }
      ]
    },
    {
      "cell_type": "markdown",
      "source": [
        "# **Exercise 2**\n",
        "\n",
        "In the following script will use DFS to solve the simple graph"
      ],
      "metadata": {
        "id": "YT-lW_GhLK8N"
      }
    },
    {
      "cell_type": "code",
      "source": [
        "def dfs(graph, node, goal, visited=None):\n",
        "  if visited is None:\n",
        "    visited = set()\n",
        "  if node == goal:\n",
        "    return [node]\n",
        "  if node not in visited:\n",
        "    visited.add(node)\n",
        "    for neighbor in graph[node]:\n",
        "        path = dfs(graph, neighbor, goal, visited)\n",
        "        if path:\n",
        "          return [node] + path\n",
        "  return None # Goal not found\n",
        "\n",
        "# Example usage (same graph as before)\n",
        "result = dfs(graph, start_node, goal_node)\n",
        "if result:\n",
        "  print(\"Path found:\", result)\n",
        "else:\n",
        "  print(\"No path found.\")"
      ],
      "metadata": {
        "colab": {
          "base_uri": "https://localhost:8080/"
        },
        "id": "avx5ec3dLVaW",
        "outputId": "8429e680-28ba-49bb-c41f-56963c7a3e02"
      },
      "execution_count": null,
      "outputs": [
        {
          "output_type": "stream",
          "name": "stdout",
          "text": [
            "Path found: ['B', 'A', 'C', 'F']\n"
          ]
        }
      ]
    },
    {
      "cell_type": "markdown",
      "source": [
        "**Compare the time to find the solution using both algorithms and graphs:**"
      ],
      "metadata": {
        "id": "NVGD3IkLMc0n"
      }
    },
    {
      "cell_type": "code",
      "source": [
        "def measure_bfs_time(start_node, goal_node):\n",
        "    start_time = time.time()\n",
        "    result = bfs(graph, start_node, goal_node)\n",
        "    end_time = time.time()\n",
        "    elapsed_time = end_time - start_time\n",
        "    return result, elapsed_time\n",
        "\n",
        "def measure_dfs_time(start_node, goal_node):\n",
        "    start_time = time.time()\n",
        "    result = dfs(graph, start_node, goal_node)\n",
        "    end_time = time.time()\n",
        "    elapsed_time = end_time - start_time\n",
        "    return result, elapsed_time\n",
        "\n",
        "# Define the starting and ending points\n",
        "test_cases = [\n",
        "    ('A', 'H'),\n",
        "    ('A', 'G'),\n",
        "    ('C', 'H'),\n",
        "    ('B', 'F')\n",
        "]\n",
        "\n",
        "# Measure and print the time for each test case using BFS and DFS\n",
        "for start_node, goal_node in test_cases:\n",
        "    bfs_result, bfs_time = measure_bfs_time(start_node, goal_node)\n",
        "    dfs_result, dfs_time = measure_dfs_time(start_node, goal_node)\n",
        "\n",
        "    print(f\"From {start_node} to {goal_node}:\")\n",
        "    if bfs_result:\n",
        "        print(f\"BFS Path found: {bfs_result}\")\n",
        "    else:\n",
        "        print(\"BFS No path found.\")\n",
        "    print(f\"BFS Time taken: {bfs_time:.6f} seconds\")\n",
        "\n",
        "    if dfs_result:\n",
        "        print(f\"DFS Path found: {dfs_result}\")\n",
        "    else:\n",
        "        print(\"DFS No path found.\")\n",
        "    print(f\"DFS Time taken: {dfs_time:.6f} seconds\\n\")\n"
      ],
      "metadata": {
        "colab": {
          "base_uri": "https://localhost:8080/"
        },
        "id": "_51a_b3EMf1W",
        "outputId": "35321d09-ffb5-498c-c89d-3f169cf72cbd"
      },
      "execution_count": null,
      "outputs": [
        {
          "output_type": "stream",
          "name": "stdout",
          "text": [
            "From A to H:\n",
            "BFS Path found: ['A', 'B', 'E', 'H']\n",
            "BFS Time taken: 0.000026 seconds\n",
            "DFS Path found: ['A', 'B', 'D', 'E', 'F', 'H']\n",
            "DFS Time taken: 0.000012 seconds\n",
            "\n",
            "From A to G:\n",
            "BFS Path found: ['A', 'B', 'D', 'G']\n",
            "BFS Time taken: 0.000029 seconds\n",
            "DFS Path found: ['A', 'B', 'D', 'E', 'F', 'H', 'G']\n",
            "DFS Time taken: 0.000017 seconds\n",
            "\n",
            "From C to H:\n",
            "BFS Path found: ['C', 'F', 'H']\n",
            "BFS Time taken: 0.000022 seconds\n",
            "DFS Path found: ['C', 'A', 'B', 'D', 'E', 'F', 'H']\n",
            "DFS Time taken: 0.000013 seconds\n",
            "\n",
            "From B to F:\n",
            "BFS Path found: ['B', 'E', 'F']\n",
            "BFS Time taken: 0.000026 seconds\n",
            "DFS Path found: ['B', 'A', 'C', 'F']\n",
            "DFS Time taken: 0.000007 seconds\n",
            "\n"
          ]
        }
      ]
    },
    {
      "cell_type": "markdown",
      "source": [
        "**Change the starting and ending point and observe the problem solution:**"
      ],
      "metadata": {
        "id": "GEmgfWJGOq6-"
      }
    },
    {
      "cell_type": "code",
      "source": [
        "def measure_bfs_time(start_node, goal_node):\n",
        "    start_time = time.time()\n",
        "    result = bfs(graph, start_node, goal_node)\n",
        "    end_time = time.time()\n",
        "    elapsed_time = end_time - start_time\n",
        "    return result, elapsed_time\n",
        "\n",
        "def measure_dfs_time(start_node, goal_node):\n",
        "    start_time = time.time()\n",
        "    result = dfs(graph, start_node, goal_node)\n",
        "    end_time = time.time()\n",
        "    elapsed_time = end_time - start_time\n",
        "    return result, elapsed_time\n",
        "\n",
        "# Define the starting and ending points\n",
        "test_cases = [\n",
        "    ('A', 'H'),\n",
        "    ('A', 'G'),\n",
        "    ('C', 'H'),\n",
        "    ('B', 'F'),\n",
        "    ('D', 'C'),\n",
        "    ('E', 'G')\n",
        "]\n",
        "\n",
        "# Measure and print the time for each test case using BFS and DFS\n",
        "for start_node, goal_node in test_cases:\n",
        "    bfs_result, bfs_time = measure_bfs_time(start_node, goal_node)\n",
        "    dfs_result, dfs_time = measure_dfs_time(start_node, goal_node)\n",
        "\n",
        "    print(f\"From {start_node} to {goal_node}:\")\n",
        "    if bfs_result:\n",
        "        print(f\"BFS Path found: {bfs_result}\")\n",
        "    else:\n",
        "        print(\"BFS No path found.\")\n",
        "    print(f\"BFS Time taken: {bfs_time:.6f} seconds\")\n",
        "\n",
        "    if dfs_result:\n",
        "        print(f\"DFS Path found: {dfs_result}\")\n",
        "    else:\n",
        "        print(\"DFS No path found.\")\n",
        "    print(f\"DFS Time taken: {dfs_time:.6f} seconds\\n\")"
      ],
      "metadata": {
        "colab": {
          "base_uri": "https://localhost:8080/"
        },
        "id": "_cCbQkAAM7cl",
        "outputId": "24684017-a860-4c1e-d332-ef495e36fde3"
      },
      "execution_count": null,
      "outputs": [
        {
          "output_type": "stream",
          "name": "stdout",
          "text": [
            "From A to H:\n",
            "BFS Path found: ['A', 'B', 'E', 'H']\n",
            "BFS Time taken: 0.000026 seconds\n",
            "DFS Path found: ['A', 'B', 'D', 'E', 'F', 'H']\n",
            "DFS Time taken: 0.000016 seconds\n",
            "\n",
            "From A to G:\n",
            "BFS Path found: ['A', 'B', 'D', 'G']\n",
            "BFS Time taken: 0.000025 seconds\n",
            "DFS Path found: ['A', 'B', 'D', 'E', 'F', 'H', 'G']\n",
            "DFS Time taken: 0.000016 seconds\n",
            "\n",
            "From C to H:\n",
            "BFS Path found: ['C', 'F', 'H']\n",
            "BFS Time taken: 0.000023 seconds\n",
            "DFS Path found: ['C', 'A', 'B', 'D', 'E', 'F', 'H']\n",
            "DFS Time taken: 0.000014 seconds\n",
            "\n",
            "From B to F:\n",
            "BFS Path found: ['B', 'E', 'F']\n",
            "BFS Time taken: 0.000017 seconds\n",
            "DFS Path found: ['B', 'A', 'C', 'F']\n",
            "DFS Time taken: 0.000006 seconds\n",
            "\n",
            "From D to C:\n",
            "BFS Path found: ['D', 'B', 'A', 'C']\n",
            "BFS Time taken: 0.000016 seconds\n",
            "DFS Path found: ['D', 'B', 'A', 'C']\n",
            "DFS Time taken: 0.000004 seconds\n",
            "\n",
            "From E to G:\n",
            "BFS Path found: ['E', 'D', 'G']\n",
            "BFS Time taken: 0.000015 seconds\n",
            "DFS Path found: ['E', 'B', 'A', 'C', 'F', 'H', 'G']\n",
            "DFS Time taken: 0.000010 seconds\n",
            "\n"
          ]
        }
      ]
    },
    {
      "cell_type": "markdown",
      "source": [
        "**Use the time library to calculate how long would it take to solve the problem using three different starting points and ending points:**\n"
      ],
      "metadata": {
        "id": "-hrQJNavOPSF"
      }
    },
    {
      "cell_type": "markdown",
      "source": [
        "In this script, I've selected three different test cases:\n",
        "\n",
        "\n",
        "1.   From 'A' to 'H'\n",
        "2.   From 'C' to 'F'\n",
        "3.   From 'D' to 'B'\n",
        "\n",
        "For each test case, the script measures and prints the time taken by both BFS and DFS algorithms to find the path (if any) between the specified start and goal nodes.\n",
        "\n",
        "And here is the code:\n",
        "\n"
      ],
      "metadata": {
        "id": "g1qaFEEgzuOY"
      }
    },
    {
      "cell_type": "code",
      "source": [
        "def measure_bfs_time(start_node, goal_node):\n",
        "    start_time = time.time()\n",
        "    result = bfs(graph, start_node, goal_node)\n",
        "    end_time = time.time()\n",
        "    elapsed_time = end_time - start_time\n",
        "    return result, elapsed_time\n",
        "\n",
        "def measure_dfs_time(start_node, goal_node):\n",
        "    start_time = time.time()\n",
        "    result = dfs(graph, start_node, goal_node)\n",
        "    end_time = time.time()\n",
        "    elapsed_time = end_time - start_time\n",
        "    return result, elapsed_time\n",
        "\n",
        "# Define the starting and ending points\n",
        "test_cases = [\n",
        "    ('A', 'H'),\n",
        "    ('C', 'F'),\n",
        "    ('D', 'B')\n",
        "]\n",
        "\n",
        "# Measure and print the time for each test case using BFS and DFS\n",
        "for start_node, goal_node in test_cases:\n",
        "    bfs_result, bfs_time = measure_bfs_time(start_node, goal_node)\n",
        "    dfs_result, dfs_time = measure_dfs_time(start_node, goal_node)\n",
        "\n",
        "    print(f\"From {start_node} to {goal_node}:\")\n",
        "    if bfs_result:\n",
        "        print(f\"BFS Path found: {bfs_result}\")\n",
        "    else:\n",
        "        print(\"BFS No path found.\")\n",
        "    print(f\"BFS Time taken: {bfs_time:.6f} seconds\")\n",
        "\n",
        "    if dfs_result:\n",
        "        print(f\"DFS Path found: {dfs_result}\")\n",
        "    else:\n",
        "        print(\"DFS No path found.\")\n",
        "    print(f\"DFS Time taken: {dfs_time:.6f} seconds\\n\")\n"
      ],
      "metadata": {
        "colab": {
          "base_uri": "https://localhost:8080/"
        },
        "id": "NGAzdU5kM77H",
        "outputId": "c3aac9a5-63a5-485e-b3d2-1974b9c10e58"
      },
      "execution_count": null,
      "outputs": [
        {
          "output_type": "stream",
          "name": "stdout",
          "text": [
            "From A to H:\n",
            "BFS Path found: ['A', 'B', 'E', 'H']\n",
            "BFS Time taken: 0.000024 seconds\n",
            "DFS Path found: ['A', 'B', 'D', 'E', 'F', 'H']\n",
            "DFS Time taken: 0.000013 seconds\n",
            "\n",
            "From C to F:\n",
            "BFS Path found: ['C', 'F']\n",
            "BFS Time taken: 0.000007 seconds\n",
            "DFS Path found: ['C', 'A', 'B', 'D', 'E', 'F']\n",
            "DFS Time taken: 0.000007 seconds\n",
            "\n",
            "From D to B:\n",
            "BFS Path found: ['D', 'B']\n",
            "BFS Time taken: 0.000004 seconds\n",
            "DFS Path found: ['D', 'B']\n",
            "DFS Time taken: 0.000002 seconds\n",
            "\n"
          ]
        }
      ]
    },
    {
      "cell_type": "markdown",
      "source": [
        "# **Exercise 3**\n",
        "\n",
        " In this exercise we will be using LDS algorithm to solve the problem, use the\n",
        "following script to implement it:"
      ],
      "metadata": {
        "id": "0fGfuOz7PVLG"
      }
    },
    {
      "cell_type": "code",
      "source": [
        "def dls(graph, node, goal, depth, visited = None):\n",
        "  if visited is None:\n",
        "    visited = set()\n",
        "  if depth == 0:\n",
        "    return None\n",
        "  if node == goal:\n",
        "    return [node]\n",
        "  if node not in visited:\n",
        "    visited.add(node)\n",
        "    for neighbor in graph[node]:\n",
        "      path = dls(graph, neighbor, goal, depth -1, visited)\n",
        "      if path:\n",
        "        return [node] + path\n",
        "  return None\n",
        "\n",
        "  # Exmaple usage (same graph as before)\n",
        "  max_depth = 3\n",
        "  result = dls(graph, start_node, goal_node, max_depth)\n",
        "  if result:\n",
        "    print(\"Path found:\", result)\n",
        "  else:\n",
        "    print(\"No path found.\")"
      ],
      "metadata": {
        "id": "pUJic3CrNyPP"
      },
      "execution_count": null,
      "outputs": []
    },
    {
      "cell_type": "markdown",
      "source": [
        "**Change the max depth and find how can use break the algorithm**:"
      ],
      "metadata": {
        "id": "xwbMwLQZQ4oF"
      }
    },
    {
      "cell_type": "code",
      "source": [
        "def dls(graph, node, goal, depth, visited=None):\n",
        "    if visited is None:\n",
        "        visited = set()\n",
        "    if depth == 0:\n",
        "        return None\n",
        "    if node == goal:\n",
        "        return [node]\n",
        "    if node not in visited:\n",
        "        visited.add(node)\n",
        "        for neighbor in graph[node]:\n",
        "            path = dls(graph, neighbor, goal, depth - 1, visited)\n",
        "            if path:\n",
        "                return [node] + path\n",
        "    return None\n",
        "\n",
        "# Example usage\n",
        "graph = {\n",
        "    'A': ['B', 'C'],\n",
        "    'B': ['D', 'E'],\n",
        "    'C': ['F'],\n",
        "    'D': [],\n",
        "    'E': ['F'],\n",
        "    'F': []\n",
        "}\n",
        "start_node = 'A'\n",
        "goal_node = 'F'\n",
        "\n",
        "max_depth = 2  # Change max depth here\n",
        "result = dls(graph, start_node, goal_node, max_depth)\n",
        "if result:\n",
        "    print(\"Path found:\", result)\n",
        "else:\n",
        "    print(\"No path found.\")"
      ],
      "metadata": {
        "colab": {
          "base_uri": "https://localhost:8080/"
        },
        "id": "FXuf8QILPwj1",
        "outputId": "8d0ca4d2-11ed-46cd-8f54-b7e22bb36aab"
      },
      "execution_count": null,
      "outputs": [
        {
          "output_type": "stream",
          "name": "stdout",
          "text": [
            "No path found.\n"
          ]
        }
      ]
    },
    {
      "cell_type": "markdown",
      "source": [
        "# **Creating the Graph has many layers and comparing to the different algorithms**:\n",
        "\n",
        "![image.png](data:image/png;base64,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)"
      ],
      "metadata": {
        "id": "RpMmfAZkRNyH"
      }
    },
    {
      "cell_type": "markdown",
      "source": [
        "**Depth-First Search (DFS):**"
      ],
      "metadata": {
        "id": "RP3_pfFKS4xo"
      }
    },
    {
      "cell_type": "code",
      "source": [
        "graph = {\n",
        "    1: [2],\n",
        "    2: [3, 4],\n",
        "    3: [5, 6],\n",
        "    4: [5],\n",
        "    5: [],\n",
        "    6: [7],\n",
        "    7: []\n",
        "}\n",
        "\n",
        "def dfs(graph, start, visited=None):\n",
        "    if visited is None:\n",
        "        visited = set()\n",
        "    visited.add(start)\n",
        "    print(start, end=' ')\n",
        "    for neighbor in graph[start]:\n",
        "        if neighbor not in visited:\n",
        "            dfs(graph, neighbor, visited)\n",
        "    return visited\n",
        "\n",
        "# Run DFS starting from node 1\n",
        "print(\"DFS Traversal:\")\n",
        "dfs(graph, 1)\n",
        "print()"
      ],
      "metadata": {
        "colab": {
          "base_uri": "https://localhost:8080/"
        },
        "id": "v2MBjdHHSbDX",
        "outputId": "06fc14fe-f93c-42f6-b5d9-2b5c7ed4aa88"
      },
      "execution_count": null,
      "outputs": [
        {
          "output_type": "stream",
          "name": "stdout",
          "text": [
            "DFS Traversal:\n",
            "1 2 3 5 6 7 4 \n"
          ]
        }
      ]
    },
    {
      "cell_type": "markdown",
      "source": [
        "**Breadth-First Search (BFS)**\n",
        "\n",
        "\n",
        "\n"
      ],
      "metadata": {
        "id": "chWXgPDtS9RG"
      }
    },
    {
      "cell_type": "code",
      "source": [
        "from collections import deque\n",
        "\n",
        "def bfs(graph, start):\n",
        "    visited = set()\n",
        "    queue = deque([start])\n",
        "    visited.add(start)\n",
        "    while queue:\n",
        "        node = queue.popleft()\n",
        "        print(node, end=' ')\n",
        "        for neighbor in graph[node]:\n",
        "            if neighbor not in visited:\n",
        "                visited.add(neighbor)\n",
        "                queue.append(neighbor)\n",
        "\n",
        "# Run BFS starting from node 1\n",
        "print(\"BFS Traversal:\")\n",
        "bfs(graph, 1)\n",
        "print()"
      ],
      "metadata": {
        "colab": {
          "base_uri": "https://localhost:8080/"
        },
        "id": "T8oNo4U3SbnY",
        "outputId": "5a836346-c384-4adf-aae9-c658bf530c09"
      },
      "execution_count": null,
      "outputs": [
        {
          "output_type": "stream",
          "name": "stdout",
          "text": [
            "BFS Traversal:\n",
            "1 2 3 4 5 6 7 \n"
          ]
        }
      ]
    },
    {
      "cell_type": "markdown",
      "source": [
        "**Dijkstra's Algorithm**"
      ],
      "metadata": {
        "id": "SVpBylO9TFCm"
      }
    },
    {
      "cell_type": "code",
      "source": [
        "import heapq\n",
        "\n",
        "def dijkstra(graph, start):\n",
        "    distances = {node: float('infinity') for node in graph}\n",
        "    distances[start] = 0\n",
        "    priority_queue = [(0, start)]\n",
        "\n",
        "    while priority_queue:\n",
        "        current_distance, current_node = heapq.heappop(priority_queue)\n",
        "\n",
        "        if current_distance > distances[current_node]:\n",
        "            continue\n",
        "\n",
        "        for neighbor in graph[current_node]:\n",
        "            distance = current_distance + 1  # Assuming all edges have weight 1\n",
        "            if distance < distances[neighbor]:\n",
        "                distances[neighbor] = distance\n",
        "                heapq.heappush(priority_queue, (distance, neighbor))\n",
        "\n",
        "    return distances\n",
        "\n",
        "# Run Dijkstra's algorithm starting from node 1\n",
        "print(\"Dijkstra's shortest path distances from node 1:\")\n",
        "distances = dijkstra(graph, 1)\n",
        "for node, distance in distances.items():\n",
        "    print(f\"Node {node}: {distance}\")"
      ],
      "metadata": {
        "colab": {
          "base_uri": "https://localhost:8080/"
        },
        "id": "3RFd55zQSkku",
        "outputId": "a78cbd81-b564-4640-b027-1982eea44dcd"
      },
      "execution_count": null,
      "outputs": [
        {
          "output_type": "stream",
          "name": "stdout",
          "text": [
            "Dijkstra's shortest path distances from node 1:\n",
            "Node 1: 0\n",
            "Node 2: 1\n",
            "Node 3: 2\n",
            "Node 4: 2\n",
            "Node 5: 3\n",
            "Node 6: 3\n",
            "Node 7: 4\n"
          ]
        }
      ]
    },
    {
      "cell_type": "markdown",
      "source": [
        "# **Running the code:**"
      ],
      "metadata": {
        "id": "47T3IJ05TJxG"
      }
    },
    {
      "cell_type": "code",
      "source": [
        "if __name__ == \"__main__\":\n",
        "    print(\"DFS Traversal:\")\n",
        "    dfs(graph, 1)\n",
        "    print(\"\\n\")\n",
        "\n",
        "    print(\"BFS Traversal:\")\n",
        "    bfs(graph, 1)\n",
        "    print(\"\\n\")\n",
        "\n",
        "    print(\"Dijkstra's shortest path distances from node 1:\")\n",
        "    distances = dijkstra(graph, 1)\n",
        "    for node, distance in distances.items():\n",
        "        print(f\"Node {node}: {distance}\")"
      ],
      "metadata": {
        "colab": {
          "base_uri": "https://localhost:8080/"
        },
        "id": "xCwgA0FcSnge",
        "outputId": "ebbb7144-d872-4c2b-ecf5-0794e48ee5de"
      },
      "execution_count": null,
      "outputs": [
        {
          "output_type": "stream",
          "name": "stdout",
          "text": [
            "DFS Traversal:\n",
            "1 2 3 5 6 7 4 \n",
            "\n",
            "BFS Traversal:\n",
            "1 2 3 4 5 6 7 \n",
            "\n",
            "Dijkstra's shortest path distances from node 1:\n",
            "Node 1: 0\n",
            "Node 2: 1\n",
            "Node 3: 2\n",
            "Node 4: 2\n",
            "Node 5: 3\n",
            "Node 6: 3\n",
            "Node 7: 4\n"
          ]
        }
      ]
    },
    {
      "cell_type": "markdown",
      "source": [
        "# **Exercise 3 (MAZE)**\n",
        "\n",
        "In this exercise we will be suing search algorithms to solve the maze problem"
      ],
      "metadata": {
        "id": "OgkY8Mf8Ta12"
      }
    },
    {
      "cell_type": "code",
      "source": [
        "from collections import deque\n",
        "\n",
        "def bfs_maze(maze, start, goal):\n",
        "    rows, cols = len(maze), len(maze[0])\n",
        "    visited = set()\n",
        "    parent = {}  # To keep track of the parent of each cell in the path\n",
        "\n",
        "    def is_valid(x, y):\n",
        "        return 0 <= x < rows and 0 <= y < cols and maze[x][y] != '#' and (x, y) not in visited\n",
        "\n",
        "    queue = deque([start])\n",
        "    visited.add(start)\n",
        "    found = False\n",
        "\n",
        "    while queue:\n",
        "        x, y = queue.popleft()\n",
        "        if (x, y) == goal:\n",
        "            found = True\n",
        "            break\n",
        "        # Define possible moves: up, down, left, right\n",
        "        moves = [(0, 1), (1, 0), (0, -1), (-1, 0)]\n",
        "\n",
        "        for dx, dy in moves:\n",
        "            new_x, new_y = x + dx, y + dy\n",
        "            if is_valid(new_x, new_y):\n",
        "                queue.append((new_x, new_y))\n",
        "                visited.add((new_x, new_y))\n",
        "                parent[(new_x, new_y)] = (x, y)\n",
        "\n",
        "    if not found:\n",
        "        return \"No path found\"\n",
        "\n",
        "    # Reconstruct the path from the goal to the start\n",
        "    path = []\n",
        "    x, y = goal\n",
        "    while (x, y) != start:\n",
        "        path.append((x, y))\n",
        "        x, y = parent[(x, y)]\n",
        "    path.append(start)\n",
        "    path.reverse()\n",
        "\n",
        "    # Update the maze with the path\n",
        "    for x, y in path:\n",
        "        if maze[x][y] != 'S' and maze[x][y] != 'G':\n",
        "            maze[x][y] = '*'\n",
        "\n",
        "    return \"Path found\""
      ],
      "metadata": {
        "id": "5mYRDN-hTgQP"
      },
      "execution_count": null,
      "outputs": []
    },
    {
      "cell_type": "code",
      "source": [
        "# Define the corrected maze\n",
        "maze = [\n",
        "    ['S', '.', '.', '.', '.', '.', '#', '.', '.', '.'],\n",
        "    ['#', '.', '#', '#', '#', '.', '#', '#', '#', '#'],\n",
        "    ['.', '.', '.', '.', '#', '.', '.', '.', 'G', '#'],\n",
        "    ['#', '#', '#', '#', '#', '#', '#', '#', '#', '#']\n",
        "]\n",
        "\n",
        "# Starting and goal positions\n",
        "start_position = (0, 0)\n",
        "goal_position = (2, 8)\n",
        "\n",
        "result = bfs_maze(maze, start_position, goal_position)\n",
        "\n",
        "# Print the maze with the path\n",
        "for row in maze:\n",
        "    print(' '.join(row))\n",
        "\n",
        "print(result)"
      ],
      "metadata": {
        "colab": {
          "base_uri": "https://localhost:8080/"
        },
        "id": "7m91Ap3vUTsg",
        "outputId": "c2bd78e8-adfb-4be9-a853-8b45f1f32bea"
      },
      "execution_count": null,
      "outputs": [
        {
          "output_type": "stream",
          "name": "stdout",
          "text": [
            "S * * * * * # . . .\n",
            "# . # # # * # # # #\n",
            ". . . . # * * * G #\n",
            "# # # # # # # # # #\n",
            "Path found\n"
          ]
        }
      ]
    },
    {
      "cell_type": "markdown",
      "source": [
        "# **Exercise 4**\n",
        "\n",
        "In this exersice we will be using DFS to solve the maze"
      ],
      "metadata": {
        "id": "g7mk2dKmqab8"
      }
    },
    {
      "cell_type": "code",
      "source": [
        "from collections import deque\n",
        "\n",
        "def dfs_maze(maze, start, goal):\n",
        "    rows, cols = len(maze), len(maze[0])\n",
        "    visited = set()\n",
        "    path = []  # Store the path\n",
        "\n",
        "    def is_valid(x, y):\n",
        "        return 0 <= x < rows and 0 <= y < cols and maze[x][y] != '#' and (x, y) not in visited\n",
        "\n",
        "    def dfs(x, y):\n",
        "        if x == goal[0] and y == goal[1]:\n",
        "            return True\n",
        "        visited.add((x, y))\n",
        "        path.append((x, y))\n",
        "\n",
        "        # Define possible moves: up, down, left, right\n",
        "        moves = [(0, 1), (1, 0), (0, -1), (-1, 0)]\n",
        "\n",
        "        for dx, dy in moves:\n",
        "            new_x, new_y = x + dx, y + dy\n",
        "            if is_valid(new_x, new_y):\n",
        "                if dfs(new_x, new_y):\n",
        "                    return True\n",
        "        path.pop()  # Remove the current cell from the path if no valid moves\n",
        "        return False\n",
        "\n",
        "    if dfs(start[0], start[1]):\n",
        "        # Update the maze with the path\n",
        "        for x, y in path:\n",
        "            if maze[x][y] != 'S' and maze[x][y] != 'G':\n",
        "                maze[x][y] = '*'\n",
        "        return \"Path found\"\n",
        "    else:\n",
        "        return \"No path found\"\n",
        "\n",
        "# Define the corrected maze\n",
        "maze = [\n",
        "    ['S', '.', '.', '.', '.', '.', '#', '.', '.', '.'],\n",
        "    ['#', '.', '#', '#', '#', '.', '#', '#', '#', '#'],\n",
        "    ['.', '.', '.', '.', '#', '.', '.', '.', 'G', '#'],\n",
        "    ['#', '#', '#', '#', '#', '#', '#', '#', '#', '#']\n",
        "]\n",
        "\n",
        "# Starting and goal positions\n",
        "start_position = (0, 0)\n",
        "goal_position = (2, 8)\n",
        "\n",
        "result = dfs_maze(maze, start_position, goal_position)\n",
        "\n",
        "# Print the maze with the path\n",
        "for row in maze:\n",
        "    print(' '.join(row))\n",
        "\n",
        "print(result)\n"
      ],
      "metadata": {
        "colab": {
          "base_uri": "https://localhost:8080/"
        },
        "id": "VQqzq987pC9-",
        "outputId": "7bfdb6cd-9555-44d6-880c-eecf08deb487"
      },
      "execution_count": null,
      "outputs": [
        {
          "output_type": "stream",
          "name": "stdout",
          "text": [
            "S * * * * * # . . .\n",
            "# . # # # * # # # #\n",
            ". . . . # * * * G #\n",
            "# # # # # # # # # #\n",
            "Path found\n"
          ]
        }
      ]
    },
    {
      "cell_type": "code",
      "source": [
        "# Starting and goal positions\n",
        "start_position = (0, 0)\n",
        "goal_position = (2, 8)\n",
        "\n",
        "result = bfs_maze(maze, start_position, goal_position)\n",
        "\n",
        "# Print the maze with the path\n",
        "for row in maze:\n",
        "  print(''.join(row))\n",
        "\n",
        "print(result)"
      ],
      "metadata": {
        "colab": {
          "base_uri": "https://localhost:8080/"
        },
        "id": "q_jcwZaopT6M",
        "outputId": "cb8feb61-eb3f-49ff-bfd0-b5600660927a"
      },
      "execution_count": null,
      "outputs": [
        {
          "output_type": "stream",
          "name": "stdout",
          "text": [
            "S*****#...\n",
            "#.###*####\n",
            "....#***G#\n",
            "##########\n",
            "Path found\n"
          ]
        }
      ]
    },
    {
      "cell_type": "markdown",
      "source": [
        "# **Comparison of both algorithms and find the time it takes to run them**\n",
        "\n",
        "To compare both BFS and DFS algorithms and find the time it takes to run them, we need to:\n",
        "\n",
        "*   Measure the execution time of each algorithm\n",
        "*   Compare their performance\n",
        "*   Compare the path found by each algorithm\n",
        "\n",
        "Here's the updated code to include the time measurement for both BFS and DFS algorithms:\n",
        "\n"
      ],
      "metadata": {
        "id": "yMKx4mrZtN_G"
      }
    },
    {
      "cell_type": "code",
      "source": [
        "import time\n",
        "from collections import deque\n",
        "\n",
        "def bfs_maze(maze, start, goal):\n",
        "    rows, cols = len(maze), len(maze[0])\n",
        "    visited = set()\n",
        "    parent = {}  # To keep track of the parent of each cell in the path\n",
        "\n",
        "    def is_valid(x, y):\n",
        "        return 0 <= x < rows and 0 <= y < cols and maze[x][y] != '#' and (x, y) not in visited\n",
        "\n",
        "    queue = deque([start])\n",
        "    visited.add(start)\n",
        "    found = False\n",
        "\n",
        "    while queue:\n",
        "        x, y = queue.popleft()\n",
        "        if (x, y) == goal:\n",
        "            found = True\n",
        "            break\n",
        "        # Define possible moves: up, down, left, right\n",
        "        moves = [(0, 1), (1, 0), (0, -1), (-1, 0)]\n",
        "\n",
        "        for dx, dy in moves:\n",
        "            new_x, new_y = x + dx, y + dy\n",
        "            if is_valid(new_x, new_y):\n",
        "                queue.append((new_x, new_y))\n",
        "                visited.add((new_x, new_y))\n",
        "                parent[(new_x, new_y)] = (x, y)\n",
        "\n",
        "    if not found:\n",
        "        return \"No path found\"\n",
        "\n",
        "    # Reconstruct the path from the goal to the start\n",
        "    path = []\n",
        "    x, y = goal\n",
        "    while (x, y) != start:\n",
        "        path.append((x, y))\n",
        "        x, y = parent[(x, y)]\n",
        "    path.append(start)\n",
        "    path.reverse()\n",
        "\n",
        "    # Update the maze with the path\n",
        "    for x, y in path:\n",
        "        if maze[x][y] != 'S' and maze[x][y] != 'G':\n",
        "            maze[x][y] = '*'\n",
        "\n",
        "    return \"Path found\"\n",
        "\n",
        "def dfs_maze(maze, start, goal):\n",
        "    rows, cols = len(maze), len(maze[0])\n",
        "    visited = set()\n",
        "    path = []  # Store the path\n",
        "\n",
        "    def is_valid(x, y):\n",
        "        return 0 <= x < rows and 0 <= y < cols and maze[x][y] != '#' and (x, y) not in visited\n",
        "\n",
        "    def dfs(x, y):\n",
        "        if x == goal[0] and y == goal[1]:\n",
        "            return True\n",
        "        visited.add((x, y))\n",
        "        path.append((x, y))\n",
        "\n",
        "        # Define possible moves: up, down, left, right\n",
        "        moves = [(0, 1), (1, 0), (0, -1), (-1, 0)]\n",
        "\n",
        "        for dx, dy in moves:\n",
        "            new_x, new_y = x + dx, y + dy\n",
        "            if is_valid(new_x, new_y):\n",
        "                if dfs(new_x, new_y):\n",
        "                    return True\n",
        "        path.pop()  # Remove the current cell from the path if no valid moves\n",
        "        return False\n",
        "\n",
        "    if dfs(start[0], start[1]):\n",
        "        # Update the maze with the path\n",
        "        for x, y in path:\n",
        "            if maze[x][y] != 'S' and maze[x][y] != 'G':\n",
        "                maze[x][y] = '*'\n",
        "        return \"Path found\"\n",
        "    else:\n",
        "        return \"No path found\"\n",
        "\n",
        "# Define the maze\n",
        "maze_bfs = [\n",
        "    ['S', '.', '.', '.', '.', '.', '#', '.', '.', '.'],\n",
        "    ['#', '.', '#', '#', '#', '.', '#', '#', '#', '#'],\n",
        "    ['.', '.', '.', '.', '#', '.', '.', '.', 'G', '#'],\n",
        "    ['#', '#', '#', '#', '#', '#', '#', '#', '#', '#']\n",
        "]\n",
        "\n",
        "maze_dfs = [\n",
        "    ['S', '.', '.', '.', '.', '.', '#', '.', '.', '.'],\n",
        "    ['#', '.', '#', '#', '#', '.', '#', '#', '#', '#'],\n",
        "    ['.', '.', '.', '.', '#', '.', '.', '.', 'G', '#'],\n",
        "    ['#', '#', '#', '#', '#', '#', '#', '#', '#', '#']\n",
        "]\n",
        "\n",
        "# Starting and goal positions\n",
        "start_position = (0, 0)\n",
        "goal_position = (2, 8)\n",
        "\n",
        "# Measure time for BFS\n",
        "start_time = time.time()\n",
        "bfs_result = bfs_maze(maze_bfs, start_position, goal_position)\n",
        "bfs_time = time.time() - start_time\n",
        "\n",
        "# Measure time for DFS\n",
        "start_time = time.time()\n",
        "dfs_result = dfs_maze(maze_dfs, start_position, goal_position)\n",
        "dfs_time = time.time() - start_time\n",
        "\n",
        "# Print the results\n",
        "print(\"BFS Result:\")\n",
        "for row in maze_bfs:\n",
        "    print(' '.join(row))\n",
        "print(bfs_result)\n",
        "print(f\"BFS Execution Time: {bfs_time:.6f} seconds\\n\")\n",
        "\n",
        "print(\"DFS Result:\")\n",
        "for row in maze_dfs:\n",
        "    print(' '.join(row))\n",
        "print(dfs_result)\n",
        "print(f\"DFS Execution Time: {dfs_time:.6f} seconds\\n\")\n"
      ],
      "metadata": {
        "colab": {
          "base_uri": "https://localhost:8080/"
        },
        "id": "NrIg8JaktT4V",
        "outputId": "ca86b134-75e8-41e6-a635-7c248666dfd4"
      },
      "execution_count": null,
      "outputs": [
        {
          "output_type": "stream",
          "name": "stdout",
          "text": [
            "BFS Result:\n",
            "S * * * * * # . . .\n",
            "# . # # # * # # # #\n",
            ". . . . # * * * G #\n",
            "# # # # # # # # # #\n",
            "Path found\n",
            "BFS Execution Time: 0.000292 seconds\n",
            "\n",
            "DFS Result:\n",
            "S * * * * * # . . .\n",
            "# . # # # * # # # #\n",
            ". . . . # * * * G #\n",
            "# # # # # # # # # #\n",
            "Path found\n",
            "DFS Execution Time: 0.000159 seconds\n",
            "\n"
          ]
        }
      ]
    },
    {
      "cell_type": "markdown",
      "source": [
        "# **Trying different starting and ending points then calculate the number of steps needed to solve the problem.**\n",
        "\n",
        "Let's modify the code to include different starting and ending points and calculate the number of steps needed for both BFS and DFS. We'll run the algorithms multiple times with different start and goal poitions and measure the steps taken."
      ],
      "metadata": {
        "id": "4sWUrlRZxc7_"
      }
    },
    {
      "cell_type": "markdown",
      "source": [
        "This code will:\n",
        "\n",
        "*  Run both BFS and DFS algorithms for different start and goal poitions\n",
        "*  Measure the execution time for each run\n",
        "*  Count the number of steps taken to find the path (or determnine if no path is found)\n",
        "*  Print the results, including the final maze with the path, exectuion time, and number of steps.\n"
      ],
      "metadata": {
        "id": "tExGDiQRw8Xo"
      }
    },
    {
      "cell_type": "code",
      "source": [
        "import time\n",
        "from collections import deque\n",
        "\n",
        "def bfs_maze(maze, start, goal):\n",
        "    rows, cols = len(maze), len(maze[0])\n",
        "    visited = set()\n",
        "    parent = {}  # To keep track of the parent of each cell in the path\n",
        "\n",
        "    def is_valid(x, y):\n",
        "        return 0 <= x < rows and 0 <= y < cols and maze[x][y] != '#' and (x, y) not in visited\n",
        "\n",
        "    queue = deque([start])\n",
        "    visited.add(start)\n",
        "    found = False\n",
        "    steps = 0\n",
        "\n",
        "    while queue:\n",
        "        x, y = queue.popleft()\n",
        "        steps += 1\n",
        "        if (x, y) == goal:\n",
        "            found = True\n",
        "            break\n",
        "        # Define possible moves: up, down, left, right\n",
        "        moves = [(0, 1), (1, 0), (0, -1), (-1, 0)]\n",
        "\n",
        "        for dx, dy in moves:\n",
        "            new_x, new_y = x + dx, y + dy\n",
        "            if is_valid(new_x, new_y):\n",
        "                queue.append((new_x, new_y))\n",
        "                visited.add((new_x, new_y))\n",
        "                parent[(new_x, new_y)] = (x, y)\n",
        "\n",
        "    if not found:\n",
        "        return \"No path found\", steps\n",
        "\n",
        "    # Reconstruct the path from the goal to the start\n",
        "    path = []\n",
        "    x, y = goal\n",
        "    while (x, y) != start:\n",
        "        path.append((x, y))\n",
        "        x, y = parent[(x, y)]\n",
        "    path.append(start)\n",
        "    path.reverse()\n",
        "\n",
        "    # Update the maze with the path\n",
        "    for x, y in path:\n",
        "        if maze[x][y] != 'S' and maze[x][y] != 'G':\n",
        "            maze[x][y] = '*'\n",
        "\n",
        "    return \"Path found\", steps\n",
        "\n",
        "def dfs_maze(maze, start, goal):\n",
        "    rows, cols = len(maze), len(maze[0])\n",
        "    visited = set()\n",
        "    path = []  # Store the path\n",
        "    steps = 0\n",
        "\n",
        "    def is_valid(x, y):\n",
        "        return 0 <= x < rows and 0 <= y < cols and maze[x][y] != '#' and (x, y) not in visited\n",
        "\n",
        "    def dfs(x, y):\n",
        "        nonlocal steps\n",
        "        steps += 1\n",
        "        if x == goal[0] and y == goal[1]:\n",
        "            return True\n",
        "        visited.add((x, y))\n",
        "        path.append((x, y))\n",
        "\n",
        "        # Define possible moves: up, down, left, right\n",
        "        moves = [(0, 1), (1, 0), (0, -1), (-1, 0)]\n",
        "\n",
        "        for dx, dy in moves:\n",
        "            new_x, new_y = x + dx, y + dy\n",
        "            if is_valid(new_x, new_y):\n",
        "                if dfs(new_x, new_y):\n",
        "                    return True\n",
        "        path.pop()  # Remove the current cell from the path if no valid moves\n",
        "        return False\n",
        "\n",
        "    if dfs(start[0], start[1]):\n",
        "        # Update the maze with the path\n",
        "        for x, y in path:\n",
        "            if maze[x][y] != 'S' and maze[x][y] != 'G':\n",
        "                maze[x][y] = '*'\n",
        "        return \"Path found\", steps\n",
        "    else:\n",
        "        return \"No path found\", steps\n",
        "\n",
        "# Define the maze\n",
        "original_maze = [\n",
        "    ['S', '.', '.', '.', '.', '.', '#', '.', '.', '.'],\n",
        "    ['#', '.', '#', '#', '#', '.', '#', '#', '#', '#'],\n",
        "    ['.', '.', '.', '.', '#', '.', '.', '.', 'G', '#'],\n",
        "    ['#', '#', '#', '#', '#', '#', '#', '#', '#', '#']\n",
        "]\n",
        "\n",
        "# Different starting and goal positions\n",
        "positions = [\n",
        "    ((0, 0), (2, 8)),\n",
        "    ((0, 0), (1, 5)),\n",
        "    ((0, 0), (2, 2)),\n",
        "    ((1, 1), (2, 8)),\n",
        "    ((2, 0), (0, 9))\n",
        "]\n",
        "\n",
        "# Run both algorithms with different positions\n",
        "for start, goal in positions:\n",
        "    maze_bfs = [row[:] for row in original_maze]\n",
        "    maze_dfs = [row[:] for row in original_maze]\n",
        "\n",
        "    start_time = time.time()\n",
        "    bfs_result, bfs_steps = bfs_maze(maze_bfs, start, goal)\n",
        "    bfs_time = time.time() - start_time\n",
        "\n",
        "    start_time = time.time()\n",
        "    dfs_result, dfs_steps = dfs_maze(maze_dfs, start, goal)\n",
        "    dfs_time = time.time() - start_time\n",
        "\n",
        "    print(f\"Start: {start}, Goal: {goal}\")\n",
        "    print(\"BFS Result:\")\n",
        "    for row in maze_bfs:\n",
        "        print(' '.join(row))\n",
        "    print(bfs_result)\n",
        "    print(f\"BFS Execution Time: {bfs_time:.6f} seconds\")\n",
        "    print(f\"BFS Steps: {bfs_steps}\\n\")\n",
        "\n",
        "    print(\"DFS Result:\")\n",
        "    for row in maze_dfs:\n",
        "        print(' '.join(row))\n",
        "    print(dfs_result)\n",
        "    print(f\"DFS Execution Time: {dfs_time:.6f} seconds\")\n",
        "    print(f\"DFS Steps: {dfs_steps}\\n\")\n"
      ],
      "metadata": {
        "colab": {
          "base_uri": "https://localhost:8080/"
        },
        "id": "_h3gGSRrwiHX",
        "outputId": "e3f612be-d99e-4dab-a5f4-fc91e6c376b2"
      },
      "execution_count": null,
      "outputs": [
        {
          "output_type": "stream",
          "name": "stdout",
          "text": [
            "Start: (0, 0), Goal: (2, 8)\n",
            "BFS Result:\n",
            "S * * * * * # . . .\n",
            "# . # # # * # # # #\n",
            ". . . . # * * * G #\n",
            "# # # # # # # # # #\n",
            "Path found\n",
            "BFS Execution Time: 0.000097 seconds\n",
            "BFS Steps: 16\n",
            "\n",
            "DFS Result:\n",
            "S * * * * * # . . .\n",
            "# . # # # * # # # #\n",
            ". . . . # * * * G #\n",
            "# # # # # # # # # #\n",
            "Path found\n",
            "DFS Execution Time: 0.000042 seconds\n",
            "DFS Steps: 11\n",
            "\n",
            "Start: (0, 0), Goal: (1, 5)\n",
            "BFS Result:\n",
            "S * * * * * # . . .\n",
            "# . # # # * # # # #\n",
            ". . . . # . . . G #\n",
            "# # # # # # # # # #\n",
            "Path found\n",
            "BFS Execution Time: 0.000080 seconds\n",
            "BFS Steps: 12\n",
            "\n",
            "DFS Result:\n",
            "S * * * * * # . . .\n",
            "# . # # # . # # # #\n",
            ". . . . # . . . G #\n",
            "# # # # # # # # # #\n",
            "Path found\n",
            "DFS Execution Time: 0.000026 seconds\n",
            "DFS Steps: 7\n",
            "\n",
            "Start: (0, 0), Goal: (2, 2)\n",
            "BFS Result:\n",
            "S * . . . . # . . .\n",
            "# * # # # . # # # #\n",
            ". * * . # . . . G #\n",
            "# # # # # # # # # #\n",
            "Path found\n",
            "BFS Execution Time: 0.000050 seconds\n",
            "BFS Steps: 8\n",
            "\n",
            "DFS Result:\n",
            "S * . . . . # . . .\n",
            "# * # # # . # # # #\n",
            ". * . . # . . . G #\n",
            "# # # # # # # # # #\n",
            "Path found\n",
            "DFS Execution Time: 0.000070 seconds\n",
            "DFS Steps: 14\n",
            "\n",
            "Start: (1, 1), Goal: (2, 8)\n",
            "BFS Result:\n",
            "S * * * * * # . . .\n",
            "# * # # # * # # # #\n",
            ". . . . # * * * G #\n",
            "# # # # # # # # # #\n",
            "Path found\n",
            "BFS Execution Time: 0.000089 seconds\n",
            "BFS Steps: 16\n",
            "\n",
            "DFS Result:\n",
            "S * * * * * # . . .\n",
            "# * # # # * # # # #\n",
            ". . . . # * * * G #\n",
            "# # # # # # # # # #\n",
            "Path found\n",
            "DFS Execution Time: 0.000050 seconds\n",
            "DFS Steps: 15\n",
            "\n",
            "Start: (2, 0), Goal: (0, 9)\n",
            "BFS Result:\n",
            "S . . . . . # . . .\n",
            "# . # # # . # # # #\n",
            ". . . . # . . . G #\n",
            "# # # # # # # # # #\n",
            "No path found\n",
            "BFS Execution Time: 0.000080 seconds\n",
            "BFS Steps: 16\n",
            "\n",
            "DFS Result:\n",
            "S . . . . . # . . .\n",
            "# . # # # . # # # #\n",
            ". . . . # . . . G #\n",
            "# # # # # # # # # #\n",
            "No path found\n",
            "DFS Execution Time: 0.000075 seconds\n",
            "DFS Steps: 16\n",
            "\n"
          ]
        }
      ]
    },
    {
      "cell_type": "markdown",
      "source": [
        "# **Changing the maze map to make it much larger then repeat the comparsion**\n",
        "\n",
        "\n",
        "To create a larger maze and repeat the comparison, we'll first define a larger maze and then run both BFS and DFS algorithms on it with different start and goal positions. Here’s how you can do it"
      ],
      "metadata": {
        "id": "c0SvHvPpxnwX"
      }
    },
    {
      "cell_type": "markdown",
      "source": [
        "**Explanation:**\n",
        "\n",
        "*  **Larger Maze:** The maze has been increased in size to 9 rows and 20 columns with more complexity\n",
        "*  **Positions:** Five different start and goal positions are defined to test the algorithms' performance\n",
        "*  **Step Calculation:** The Number of steps taken to find the path is calcualted for both BFS and DFS\n",
        "*  **Exectuion Time:** The execution time for each run is measured and printed.\n",
        "\n"
      ],
      "metadata": {
        "id": "ARTpvS4hx-co"
      }
    },
    {
      "cell_type": "code",
      "source": [
        "import time\n",
        "from collections import deque\n",
        "\n",
        "def bfs_maze(maze, start, goal):\n",
        "    rows, cols = len(maze), len(maze[0])\n",
        "    visited = set()\n",
        "    parent = {}  # To keep track of the parent of each cell in the path\n",
        "\n",
        "    def is_valid(x, y):\n",
        "        return 0 <= x < rows and 0 <= y < cols and maze[x][y] != '#' and (x, y) not in visited\n",
        "\n",
        "    queue = deque([start])\n",
        "    visited.add(start)\n",
        "    found = False\n",
        "    steps = 0\n",
        "\n",
        "    while queue:\n",
        "        x, y = queue.popleft()\n",
        "        steps += 1\n",
        "        if (x, y) == goal:\n",
        "            found = True\n",
        "            break\n",
        "        # Define possible moves: up, down, left, right\n",
        "        moves = [(0, 1), (1, 0), (0, -1), (-1, 0)]\n",
        "\n",
        "        for dx, dy in moves:\n",
        "            new_x, new_y = x + dx, y + dy\n",
        "            if is_valid(new_x, new_y):\n",
        "                queue.append((new_x, new_y))\n",
        "                visited.add((new_x, new_y))\n",
        "                parent[(new_x, new_y)] = (x, y)\n",
        "\n",
        "    if not found:\n",
        "        return \"No path found\", steps\n",
        "\n",
        "    # Reconstruct the path from the goal to the start\n",
        "    path = []\n",
        "    x, y = goal\n",
        "    while (x, y) != start:\n",
        "        path.append((x, y))\n",
        "        x, y = parent[(x, y)]\n",
        "    path.append(start)\n",
        "    path.reverse()\n",
        "\n",
        "    # Update the maze with the path\n",
        "    for x, y in path:\n",
        "        if maze[x][y] != 'S' and maze[x][y] != 'G':\n",
        "            maze[x][y] = '*'\n",
        "\n",
        "    return \"Path found\", steps\n",
        "\n",
        "def dfs_maze(maze, start, goal):\n",
        "    rows, cols = len(maze), len(maze[0])\n",
        "    visited = set()\n",
        "    path = []  # Store the path\n",
        "    steps = 0\n",
        "\n",
        "    def is_valid(x, y):\n",
        "        return 0 <= x < rows and 0 <= y < cols and maze[x][y] != '#' and (x, y) not in visited\n",
        "\n",
        "    def dfs(x, y):\n",
        "        nonlocal steps\n",
        "        steps += 1\n",
        "        if x == goal[0] and y == goal[1]:\n",
        "            return True\n",
        "        visited.add((x, y))\n",
        "        path.append((x, y))\n",
        "\n",
        "        # Define possible moves: up, down, left, right\n",
        "        moves = [(0, 1), (1, 0), (0, -1), (-1, 0)]\n",
        "\n",
        "        for dx, dy in moves:\n",
        "            new_x, new_y = x + dx, y + dy\n",
        "            if is_valid(new_x, new_y):\n",
        "                if dfs(new_x, new_y):\n",
        "                    return True\n",
        "        path.pop()  # Remove the current cell from the path if no valid moves\n",
        "        return False\n",
        "\n",
        "    if dfs(start[0], start[1]):\n",
        "        # Update the maze with the path\n",
        "        for x, y in path:\n",
        "            if maze[x][y] != 'S' and maze[x][y] != 'G':\n",
        "                maze[x][y] = '*'\n",
        "        return \"Path found\", steps\n",
        "    else:\n",
        "        return \"No path found\", steps\n",
        "\n",
        "# Define a larger maze\n",
        "original_maze = [\n",
        "    ['S', '.', '.', '.', '.', '.', '#', '.', '.', '.', '.', '.', '.', '.', '.', '.', '.', '.', '.', '.'],\n",
        "    ['#', '#', '#', '#', '#', '.', '#', '#', '#', '#', '#', '#', '#', '#', '#', '#', '#', '#', '#', '#'],\n",
        "    ['.', '.', '.', '.', '#', '.', '.', '.', '.', '.', '.', '.', '.', '.', '.', '.', '.', '.', '.', '.'],\n",
        "    ['.', '#', '#', '.', '#', '.', '#', '#', '#', '#', '#', '#', '#', '#', '#', '#', '#', '#', '#', '#'],\n",
        "    ['.', '.', '#', '.', '#', '.', '.', '.', '.', '.', '.', '.', '.', '.', '.', '.', '.', '.', '.', '.'],\n",
        "    ['#', '.', '#', '.', '#', '#', '#', '#', '#', '#', '#', '#', '#', '#', '#', '#', '#', '#', '#', '#'],\n",
        "    ['.', '.', '.', '.', '.', '.', '.', '.', '.', '.', '.', '.', '.', '.', '.', '.', '.', '.', '.', 'G'],\n",
        "    ['#', '#', '#', '#', '#', '#', '#', '#', '#', '#', '#', '#', '#', '#', '#', '#', '#', '#', '#', '#'],\n",
        "    ['.', '.', '.', '.', '.', '.', '.', '.', '.', '.', '.', '.', '.', '.', '.', '.', '.', '.', '.', '.']\n",
        "]\n",
        "\n",
        "# Different starting and goal positions\n",
        "positions = [\n",
        "    ((0, 0), (6, 19)),\n",
        "    ((0, 0), (4, 10)),\n",
        "    ((0, 0), (8, 5)),\n",
        "    ((1, 5), (7, 10)),\n",
        "    ((2, 0), (3, 19))\n",
        "]\n",
        "\n",
        "# Run both algorithms with different positions\n",
        "for start, goal in positions:\n",
        "    maze_bfs = [row[:] for row in original_maze]\n",
        "    maze_dfs = [row[:] for row in original_maze]\n",
        "\n",
        "    start_time = time.time()\n",
        "    bfs_result, bfs_steps = bfs_maze(maze_bfs, start, goal)\n",
        "    bfs_time = time.time() - start_time\n",
        "\n",
        "    start_time = time.time()\n",
        "    dfs_result, dfs_steps = dfs_maze(maze_dfs, start, goal)\n",
        "    dfs_time = time.time() - start_time\n",
        "\n",
        "    print(f\"Start: {start}, Goal: {goal}\")\n",
        "    print(\"BFS Result:\")\n",
        "    for row in maze_bfs:\n",
        "        print(' '.join(row))\n",
        "    print(bfs_result)\n",
        "    print(f\"BFS Execution Time: {bfs_time:.6f} seconds\")\n",
        "    print(f\"BFS Steps: {bfs_steps}\\n\")\n",
        "\n",
        "    print(\"DFS Result:\")\n",
        "    for row in maze_dfs:\n",
        "        print(' '.join(row))\n",
        "    print(dfs_result)\n",
        "    print(f\"DFS Execution Time: {dfs_time:.6f} seconds\")\n",
        "    print(f\"DFS Steps: {dfs_steps}\\n\")\n"
      ],
      "metadata": {
        "colab": {
          "base_uri": "https://localhost:8080/"
        },
        "id": "ZWpXcZVcwikO",
        "outputId": "3a02de60-2acc-4da8-a515-543b52b5e7ca"
      },
      "execution_count": null,
      "outputs": [
        {
          "output_type": "stream",
          "name": "stdout",
          "text": [
            "Start: (0, 0), Goal: (6, 19)\n",
            "BFS Result:\n",
            "S . . . . . # . . . . . . . . . . . . .\n",
            "# # # # # . # # # # # # # # # # # # # #\n",
            ". . . . # . . . . . . . . . . . . . . .\n",
            ". # # . # . # # # # # # # # # # # # # #\n",
            ". . # . # . . . . . . . . . . . . . . .\n",
            "# . # . # # # # # # # # # # # # # # # #\n",
            ". . . . . . . . . . . . . . . . . . . G\n",
            "# # # # # # # # # # # # # # # # # # # #\n",
            ". . . . . . . . . . . . . . . . . . . .\n",
            "No path found\n",
            "BFS Execution Time: 0.000179 seconds\n",
            "BFS Steps: 38\n",
            "\n",
            "DFS Result:\n",
            "S . . . . . # . . . . . . . . . . . . .\n",
            "# # # # # . # # # # # # # # # # # # # #\n",
            ". . . . # . . . . . . . . . . . . . . .\n",
            ". # # . # . # # # # # # # # # # # # # #\n",
            ". . # . # . . . . . . . . . . . . . . .\n",
            "# . # . # # # # # # # # # # # # # # # #\n",
            ". . . . . . . . . . . . . . . . . . . G\n",
            "# # # # # # # # # # # # # # # # # # # #\n",
            ". . . . . . . . . . . . . . . . . . . .\n",
            "No path found\n",
            "DFS Execution Time: 0.000184 seconds\n",
            "DFS Steps: 38\n",
            "\n",
            "Start: (0, 0), Goal: (4, 10)\n",
            "BFS Result:\n",
            "S * * * * * # . . . . . . . . . . . . .\n",
            "# # # # # * # # # # # # # # # # # # # #\n",
            ". . . . # * . . . . . . . . . . . . . .\n",
            ". # # . # * # # # # # # # # # # # # # #\n",
            ". . # . # * * * * * * . . . . . . . . .\n",
            "# . # . # # # # # # # # # # # # # # # #\n",
            ". . . . . . . . . . . . . . . . . . . G\n",
            "# # # # # # # # # # # # # # # # # # # #\n",
            ". . . . . . . . . . . . . . . . . . . .\n",
            "Path found\n",
            "BFS Execution Time: 0.000136 seconds\n",
            "BFS Steps: 22\n",
            "\n",
            "DFS Result:\n",
            "S * * * * * # . . . . . . . . . . . . .\n",
            "# # # # # * # # # # # # # # # # # # # #\n",
            ". . . . # * . . . . . . . . . . . . . .\n",
            ". # # . # * # # # # # # # # # # # # # #\n",
            ". . # . # * * * * * . . . . . . . . . .\n",
            "# . # . # # # # # # # # # # # # # # # #\n",
            ". . . . . . . . . . . . . . . . . . . G\n",
            "# # # # # # # # # # # # # # # # # # # #\n",
            ". . . . . . . . . . . . . . . . . . . .\n",
            "Path found\n",
            "DFS Execution Time: 0.000101 seconds\n",
            "DFS Steps: 29\n",
            "\n",
            "Start: (0, 0), Goal: (8, 5)\n",
            "BFS Result:\n",
            "S . . . . . # . . . . . . . . . . . . .\n",
            "# # # # # . # # # # # # # # # # # # # #\n",
            ". . . . # . . . . . . . . . . . . . . .\n",
            ". # # . # . # # # # # # # # # # # # # #\n",
            ". . # . # . . . . . . . . . . . . . . .\n",
            "# . # . # # # # # # # # # # # # # # # #\n",
            ". . . . . . . . . . . . . . . . . . . G\n",
            "# # # # # # # # # # # # # # # # # # # #\n",
            ". . . . . . . . . . . . . . . . . . . .\n",
            "No path found\n",
            "BFS Execution Time: 0.000205 seconds\n",
            "BFS Steps: 38\n",
            "\n",
            "DFS Result:\n",
            "S . . . . . # . . . . . . . . . . . . .\n",
            "# # # # # . # # # # # # # # # # # # # #\n",
            ". . . . # . . . . . . . . . . . . . . .\n",
            ". # # . # . # # # # # # # # # # # # # #\n",
            ". . # . # . . . . . . . . . . . . . . .\n",
            "# . # . # # # # # # # # # # # # # # # #\n",
            ". . . . . . . . . . . . . . . . . . . G\n",
            "# # # # # # # # # # # # # # # # # # # #\n",
            ". . . . . . . . . . . . . . . . . . . .\n",
            "No path found\n",
            "DFS Execution Time: 0.000386 seconds\n",
            "DFS Steps: 38\n",
            "\n",
            "Start: (1, 5), Goal: (7, 10)\n",
            "BFS Result:\n",
            "S . . . . . # . . . . . . . . . . . . .\n",
            "# # # # # . # # # # # # # # # # # # # #\n",
            ". . . . # . . . . . . . . . . . . . . .\n",
            ". # # . # . # # # # # # # # # # # # # #\n",
            ". . # . # . . . . . . . . . . . . . . .\n",
            "# . # . # # # # # # # # # # # # # # # #\n",
            ". . . . . . . . . . . . . . . . . . . G\n",
            "# # # # # # # # # # # # # # # # # # # #\n",
            ". . . . . . . . . . . . . . . . . . . .\n",
            "No path found\n",
            "BFS Execution Time: 0.000152 seconds\n",
            "BFS Steps: 38\n",
            "\n",
            "DFS Result:\n",
            "S . . . . . # . . . . . . . . . . . . .\n",
            "# # # # # . # # # # # # # # # # # # # #\n",
            ". . . . # . . . . . . . . . . . . . . .\n",
            ". # # . # . # # # # # # # # # # # # # #\n",
            ". . # . # . . . . . . . . . . . . . . .\n",
            "# . # . # # # # # # # # # # # # # # # #\n",
            ". . . . . . . . . . . . . . . . . . . G\n",
            "# # # # # # # # # # # # # # # # # # # #\n",
            ". . . . . . . . . . . . . . . . . . . .\n",
            "No path found\n",
            "DFS Execution Time: 0.000149 seconds\n",
            "DFS Steps: 38\n",
            "\n",
            "Start: (2, 0), Goal: (3, 19)\n",
            "BFS Result:\n",
            "S . . . . . # . . . . . . . . . . . . .\n",
            "# # # # # . # # # # # # # # # # # # # #\n",
            ". . . . # . . . . . . . . . . . . . . .\n",
            ". # # . # . # # # # # # # # # # # # # #\n",
            ". . # . # . . . . . . . . . . . . . . .\n",
            "# . # . # # # # # # # # # # # # # # # #\n",
            ". . . . . . . . . . . . . . . . . . . G\n",
            "# # # # # # # # # # # # # # # # # # # #\n",
            ". . . . . . . . . . . . . . . . . . . .\n",
            "No path found\n",
            "BFS Execution Time: 0.000132 seconds\n",
            "BFS Steps: 31\n",
            "\n",
            "DFS Result:\n",
            "S . . . . . # . . . . . . . . . . . . .\n",
            "# # # # # . # # # # # # # # # # # # # #\n",
            ". . . . # . . . . . . . . . . . . . . .\n",
            ". # # . # . # # # # # # # # # # # # # #\n",
            ". . # . # . . . . . . . . . . . . . . .\n",
            "# . # . # # # # # # # # # # # # # # # #\n",
            ". . . . . . . . . . . . . . . . . . . G\n",
            "# # # # # # # # # # # # # # # # # # # #\n",
            ". . . . . . . . . . . . . . . . . . . .\n",
            "No path found\n",
            "DFS Execution Time: 0.000139 seconds\n",
            "DFS Steps: 31\n",
            "\n"
          ]
        }
      ]
    }
  ]
}